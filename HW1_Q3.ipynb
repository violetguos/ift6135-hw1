{
 "cells": [
  {
   "cell_type": "markdown",
   "metadata": {
    "colab_type": "text",
    "id": "zRgL6awldmL6"
   },
   "source": [
    "# HW1 Q3 - Convolutional Neural Networks\n",
    "\n",
    "In this question, we set up a CNN in order to perform the 'Cats vs Dogs' Kaggle challenge\n",
    "\n",
    "First, we import some PyTorch libraries and direct them to use Google Colab's GPU:"
   ]
  },
  {
   "cell_type": "code",
   "execution_count": 0,
   "metadata": {
    "colab": {},
    "colab_type": "code",
    "id": "LA4Mnb_Y4lpN"
   },
   "outputs": [],
   "source": [
    "import torch\n",
    "import torch.nn as nn\n",
    "import torch.nn.functional as F\n",
    "import torch.utils.data\n",
    "import torchvision\n",
    "import torchvision.transforms as transforms\n",
    "from torch.utils.data import DataLoader, Sampler, Dataset\n",
    "from torchvision import datasets\n",
    "from torch.utils.data.sampler import SubsetRandomSampler, SequentialSampler\n",
    "from torch.autograd import Variable\n",
    "\n",
    "import os\n",
    "import numpy as np\n",
    "import PIL.Image\n",
    "import glob\n",
    "import matplotlib.pyplot as plt\n"
   ]
  },
  {
   "cell_type": "code",
   "execution_count": 0,
   "metadata": {
    "colab": {},
    "colab_type": "code",
    "id": "LXXUMCDPbFXv"
   },
   "outputs": [],
   "source": [
    "# Use the GPU\n",
    "device = torch.device('cuda')"
   ]
  },
  {
   "cell_type": "markdown",
   "metadata": {
    "colab_type": "text",
    "id": "5SSjnKsIeG7T"
   },
   "source": [
    "In order to import the data for Kaggle from Google Drive, we need to jump through a few hoops, as seen below"
   ]
  },
  {
   "cell_type": "code",
   "execution_count": 0,
   "metadata": {
    "colab": {
     "base_uri": "https://localhost:8080/",
     "height": 124
    },
    "colab_type": "code",
    "id": "R8vCUTqTqZ8Z",
    "outputId": "37fd2b30-0ce1-4f20-a5a4-24a7ffb6f54d"
   },
   "outputs": [
    {
     "name": "stdout",
     "output_type": "stream",
     "text": [
      "Go to this URL in a browser: https://accounts.google.com/o/oauth2/auth?client_id=947318989803-6bn6qk8qdgf4n4g3pfee6491hc0brc4i.apps.googleusercontent.com&redirect_uri=urn%3Aietf%3Awg%3Aoauth%3A2.0%3Aoob&scope=email%20https%3A%2F%2Fwww.googleapis.com%2Fauth%2Fdocs.test%20https%3A%2F%2Fwww.googleapis.com%2Fauth%2Fdrive%20https%3A%2F%2Fwww.googleapis.com%2Fauth%2Fdrive.photos.readonly%20https%3A%2F%2Fwww.googleapis.com%2Fauth%2Fpeopleapi.readonly&response_type=code\n",
      "\n",
      "Enter your authorization code:\n",
      "··········\n",
      "Mounted at /content/drive/\n"
     ]
    }
   ],
   "source": [
    "# Import the data\n",
    "\n",
    "from google.colab import drive\n",
    "\n",
    "drive.mount('/content/drive/')"
   ]
  },
  {
   "cell_type": "code",
   "execution_count": 0,
   "metadata": {
    "colab": {},
    "colab_type": "code",
    "id": "dGu7W0jQzV39"
   },
   "outputs": [],
   "source": [
    "PATH = '/content/drive/My Drive/DL_A1/'\n",
    "\n",
    "\n",
    "# apply several different transforms, as necessary\n",
    "rotate = [-90, 90]\n",
    "transform = transforms.Compose([\n",
    "    transforms.ToPILImage(),\n",
    "    transforms.RandomRotation(rotate),\n",
    "    transforms.RandomHorizontalFlip(p=0.25),\n",
    "    transforms.RandomResizedCrop(64, scale=(0.75, 1.0)),\n",
    "    transforms.ToTensor()\n",
    "])\n",
    "\n",
    "# for the hyperparameter tunning, no transforms were applied\n",
    "\n",
    "# transform = transforms.Compose([\n",
    "#     transforms.ToPILImage(),\n",
    "#     transforms.ToTensor()\n",
    "# ])\n",
    "\n",
    "# load the data, which was downloaded and saved \n",
    "Data = np.load(PATH +'data.npz')\n",
    "\n"
   ]
  },
  {
   "cell_type": "code",
   "execution_count": 0,
   "metadata": {
    "colab": {},
    "colab_type": "code",
    "id": "w0JD6oyi6oaW"
   },
   "outputs": [],
   "source": [
    "\n",
    "# we define the dataset class for the train, valid and test data\n",
    "class dataset(Dataset):\n",
    "  def __init__(self, X, Y, transform=None):\n",
    "    self.X = X\n",
    "    self.Y = Y\n",
    "    self.transform = transform\n",
    "  \n",
    "  def __len__(self):\n",
    "    return self.X.shape[0]\n",
    "  \n",
    "  def __getitem__(self, index):\n",
    "    #temp = self.transform(self.X[index,:])\n",
    "    #return temp, self.Y[index]\\\n",
    "    sequence, target = self.X[index], self.Y[index]\n",
    "    if self.transform is not None:\n",
    "      sequence = self.transform(sequence)\n",
    "    if target is None:\n",
    "      return sequence\n",
    "    return sequence, target\n",
    "\n"
   ]
  },
  {
   "cell_type": "code",
   "execution_count": 0,
   "metadata": {
    "colab": {},
    "colab_type": "code",
    "id": "8HsNMg6U9nA2"
   },
   "outputs": [],
   "source": [
    "# define the labels and datasets\n",
    "\n",
    "test_labels = [None]*Data['Xte'].shape[0]\n",
    "train_dataset = dataset(Data['Xtr'], Data['y'], transform)\n",
    "test_dataset = dataset(Data['Xte'], test_labels, transform)\n",
    "testIDS_list = np.hsplit(Data['testIds'], 1)\n",
    "testIDS = testIDS_list[0]"
   ]
  },
  {
   "cell_type": "code",
   "execution_count": 0,
   "metadata": {
    "colab": {},
    "colab_type": "code",
    "id": "jb6ePB5nJJD5"
   },
   "outputs": [],
   "source": [
    "# we will define this information now \n",
    "batch_size = 64\n",
    "learning_rate = 0.005\n",
    "num_epochs = 100\n",
    "\n",
    "num_classes = 2\n",
    "num_of_workers = 4"
   ]
  },
  {
   "cell_type": "markdown",
   "metadata": {
    "colab_type": "text",
    "id": "p5IBw3cseSyb"
   },
   "source": [
    "To split the training data into a training and validation set, we need to establish a `sampler` for each that will pull out certain samples when called from the dataloader. In our case, we have a 20% validation split, with 16000 training examples and 4000 validation examples."
   ]
  },
  {
   "cell_type": "code",
   "execution_count": 0,
   "metadata": {
    "colab": {},
    "colab_type": "code",
    "id": "sIi-Q-bPu1Xn"
   },
   "outputs": [],
   "source": [
    "# Define a shuffled train and valid index list (non-overlapping)\n",
    "\n",
    "a = np.arange(19998)\n",
    "np.random.shuffle(a)\n",
    "\n",
    "num_train_samples = 16000\n",
    "num_valid_samples = 19998 - num_train_samples\n",
    "\n",
    "train_index = a[:num_train_samples]\n",
    "valid_index = a[num_train_samples:\n",
    "                num_train_samples+num_valid_samples]\n"
   ]
  },
  {
   "cell_type": "code",
   "execution_count": 0,
   "metadata": {
    "colab": {},
    "colab_type": "code",
    "id": "Ci7BGbTQ7uX9"
   },
   "outputs": [],
   "source": [
    "\n",
    "# Fix seed\n",
    "np.random.seed(42)\n",
    "torch.manual_seed(42)\n",
    "\n",
    "# Define samplers for the data (to get validation split)\n",
    "\n",
    "train_sampler = SubsetRandomSampler(train_index)\n",
    "\n",
    "valid_sampler = SubsetRandomSampler(valid_index)\n",
    "\n",
    "\n"
   ]
  },
  {
   "cell_type": "markdown",
   "metadata": {
    "colab_type": "text",
    "id": "MyWMN63ge3HO"
   },
   "source": [
    "As a last step before training, we define training, validation, and test dataloaders that sample from the above `sampler`s according to the defined batch size:"
   ]
  },
  {
   "cell_type": "code",
   "execution_count": 0,
   "metadata": {
    "colab": {},
    "colab_type": "code",
    "id": "PXgZ-GV8CQeT"
   },
   "outputs": [],
   "source": [
    "\n",
    "# Get dataloaders for train/valid/test\n",
    "train_loader = torch.utils.data.DataLoader(train_dataset,\n",
    "                                          batch_size=batch_size,\n",
    "                                          sampler=train_sampler)\n",
    "\n",
    "valid_loader = torch.utils.data.DataLoader(train_dataset,\n",
    "                                          batch_size=batch_size,\n",
    "                                          sampler=valid_sampler)\n"
   ]
  },
  {
   "cell_type": "markdown",
   "metadata": {
    "colab_type": "text",
    "id": "iZwa2g46e_z2"
   },
   "source": [
    "## CNN architecture definition\n",
    "\n",
    "Now we define the class for our CNN."
   ]
  },
  {
   "cell_type": "code",
   "execution_count": 0,
   "metadata": {
    "colab": {},
    "colab_type": "code",
    "id": "bQr705BWbHsL"
   },
   "outputs": [],
   "source": [
    "# this is just a function to help with input/output size\n",
    "def output_size(input_size, kernel_size, stride, padding):\n",
    "    '''\n",
    "    Helper function to determine output size of a convolution/pooling.\n",
    "    '''\n",
    "    output = int((input_size - kernel_size + 2*(padding)) / stride) + 1\n",
    "    return output"
   ]
  },
  {
   "cell_type": "code",
   "execution_count": 0,
   "metadata": {
    "colab": {},
    "colab_type": "code",
    "id": "Uef7ZWWc4WNI"
   },
   "outputs": [],
   "source": [
    "\n",
    "# hyperparameter tunning \n",
    "# Define the CNN class\n",
    "\n",
    "class CNN(nn.Module):\n",
    "  def __init__(self):\n",
    "    super(CNN, self).__init__()\n",
    "    self.conv1 = nn.Conv2d(3, 40, kernel_size=3, stride=1, padding=1)\n",
    "    self.pool1 = nn.MaxPool2d(kernel_size=2, stride=2, padding=0)\n",
    "    \n",
    "    self.conv2 = nn.Conv2d(40, 40, kernel_size=3, stride=1, padding=1)\n",
    "    self.pool2 = nn.MaxPool2d(kernel_size=2, stride=2, padding=0)\n",
    "    \n",
    "    self.fc1 = nn.Linear(10240, 175)\n",
    "    self.fc2 = nn.Linear(175, 2)\n",
    "   \n",
    "  def forward(self, x):\n",
    "    x = self.conv1(x)\n",
    "    x = F.relu(x)\n",
    "    x = self.pool1(x)\n",
    "    x = F.relu(self.conv2(x))\n",
    "    x = self.pool2(x)\n",
    "    x = x.view(len(x), 10240)\n",
    "    x = self.fc1(x)\n",
    "    x = F.relu(x)\n",
    "    x = self.fc2(x)\n",
    "#     x = F.softmax(x)nYT `yyb5\n",
    "\n",
    "    return x\n",
    "  \n",
    "\n",
    "    "
   ]
  },
  {
   "cell_type": "markdown",
   "metadata": {
    "colab_type": "text",
    "id": "G67AfTj0foDN"
   },
   "source": [
    "This CNN has two convolutional layers, each with a ReLU activation, a kernel size of 3, a stride of 1, and a padding level of 1. The first convolutional layer learns 18 feature maps and the second learns 64 feature maps. Both convolutional layers use max pooling after their operation, with a kernel size of 2 and stride of 2.\n",
    "During hyperparameter tuning, these values were modified\n",
    "\n",
    "Finally, the data will pass through two fully connected layers and output to 2 units representing either a 'Cat' or a 'Dog'.\n",
    "\n",
    "Below, we see an outline of this architecture. Note that the total number of trainable parameters is around 1.8 million per sample\n"
   ]
  },
  {
   "cell_type": "code",
   "execution_count": 0,
   "metadata": {
    "colab": {
     "base_uri": "https://localhost:8080/",
     "height": 173
    },
    "colab_type": "code",
    "id": "2_4sUFuSNudx",
    "outputId": "40a26e1e-689d-4693-aa81-76326b4f19e6"
   },
   "outputs": [
    {
     "name": "stdout",
     "output_type": "stream",
     "text": [
      "CNN(\n",
      "  (conv1): Conv2d(3, 40, kernel_size=(3, 3), stride=(1, 1), padding=(1, 1))\n",
      "  (pool1): MaxPool2d(kernel_size=2, stride=2, padding=0, dilation=1, ceil_mode=False)\n",
      "  (conv2): Conv2d(40, 40, kernel_size=(3, 3), stride=(1, 1), padding=(1, 1))\n",
      "  (pool2): MaxPool2d(kernel_size=2, stride=2, padding=0, dilation=1, ceil_mode=False)\n",
      "  (fc1): Linear(in_features=10240, out_features=175, bias=True)\n",
      "  (fc2): Linear(in_features=175, out_features=2, bias=True)\n",
      ")\n",
      "Number of parameters: 1808087\n"
     ]
    }
   ],
   "source": [
    "model = CNN().to(device)\n",
    "print(model)\n",
    "\n",
    "model_parameters = filter(lambda p: p.requires_grad, model.parameters())\n",
    "params = sum([np.prod(p.size()) for p in model_parameters])\n",
    "print('Number of parameters: {}'.format(params))"
   ]
  },
  {
   "cell_type": "markdown",
   "metadata": {
    "colab_type": "text",
    "id": "01Wu0sKrkLwh"
   },
   "source": [
    "## CNN training\n",
    "\n",
    "Now we will define our loss function and stochastic gradient descent optimizer, and run over the training loop for our CNN."
   ]
  },
  {
   "cell_type": "code",
   "execution_count": 0,
   "metadata": {
    "colab": {},
    "colab_type": "code",
    "id": "JOnTFQAjfpCB"
   },
   "outputs": [],
   "source": [
    "# Define loss and optimizer\n",
    "\n",
    "# depending on the method, either NLL or cross entropy loss was used (the latter includes a softmax)\n",
    "# the former allows for easy visualization of the data\n",
    "criterion = nn.CrossEntropyLoss()\n",
    "# criterion = nn.NLLLoss()\n",
    "optimizer = torch.optim.SGD(model.parameters(), lr=learning_rate)\n"
   ]
  },
  {
   "cell_type": "markdown",
   "metadata": {
    "colab_type": "text",
    "id": "wRBe2iqEceTu"
   },
   "source": [
    "seed weight for reproducibility\n",
    "Please note: originally, the code was run without a seed. We do understand that initial values are important in order to allow for reproducibility, but it wasn't done early enough to allow for seeding. As a result, while the code is set up for seeding the weights, running the code might not give the desired results on the first run.\n",
    "\n"
   ]
  },
  {
   "cell_type": "code",
   "execution_count": 0,
   "metadata": {
    "colab": {},
    "colab_type": "code",
    "id": "0t-2_ZGfaBbg"
   },
   "outputs": [],
   "source": [
    "# initialize seed weights for reproducability\n",
    "if type(CNN) in [nn.Conv2d, nn.Linear, nn.MaxPool2d ]:\n",
    "  CNN.weight.data = normal_(1.0, 0.02)\n",
    "  CNN.bias.data = fill_(0)\n"
   ]
  },
  {
   "cell_type": "markdown",
   "metadata": {
    "colab_type": "text",
    "id": "R0wrXUF9pcDw"
   },
   "source": [
    "# Below is the training and validation loop"
   ]
  },
  {
   "cell_type": "code",
   "execution_count": 0,
   "metadata": {
    "colab": {
     "base_uri": "https://localhost:8080/",
     "height": 6985
    },
    "colab_type": "code",
    "id": "Ts3HzSjIOnu6",
    "outputId": "55e4953d-fd1b-4dd2-f7ad-fbf4c9ff38c9"
   },
   "outputs": [
    {
     "name": "stderr",
     "output_type": "stream",
     "text": [
      "\r",
      "  0%|          | 0/250 [00:00<?, ?it/s]"
     ]
    },
    {
     "name": "stdout",
     "output_type": "stream",
     "text": [
      "\n",
      "Beginning training.\n",
      "Epoch 1/100\n"
     ]
    },
    {
     "name": "stderr",
     "output_type": "stream",
     "text": [
      "100%|██████████| 250/250 [00:17<00:00, 13.98it/s]\n",
      "  0%|          | 0/250 [00:00<?, ?it/s]"
     ]
    },
    {
     "name": "stdout",
     "output_type": "stream",
     "text": [
      "\n",
      "train_loss: 0.6930121183395386, train_acc: 49.314395202199854, valid_loss: 0.6922060251235962, valid_acc: 58.66403394186458\n",
      "Epoch 2/100\n"
     ]
    },
    {
     "name": "stderr",
     "output_type": "stream",
     "text": [
      "100%|██████████| 250/250 [00:17<00:00, 14.57it/s]\n",
      "  0%|          | 0/250 [00:00<?, ?it/s]"
     ]
    },
    {
     "name": "stdout",
     "output_type": "stream",
     "text": [
      "\n",
      "train_loss: 0.6921491622924805, train_acc: 52.928826578483545, valid_loss: 0.6913283467292786, valid_acc: 52.99855408087988\n",
      "Epoch 3/100\n"
     ]
    },
    {
     "name": "stderr",
     "output_type": "stream",
     "text": [
      "100%|██████████| 250/250 [00:17<00:00, 14.35it/s]\n",
      "  0%|          | 0/250 [00:00<?, ?it/s]"
     ]
    },
    {
     "name": "stdout",
     "output_type": "stream",
     "text": [
      "\n",
      "train_loss: 0.6915544271469116, train_acc: 54.44936447441978, valid_loss: 0.6908679604530334, valid_acc: 57.65661955998391\n",
      "Epoch 4/100\n"
     ]
    },
    {
     "name": "stderr",
     "output_type": "stream",
     "text": [
      "100%|██████████| 250/250 [00:17<00:00, 14.49it/s]\n",
      "  0%|          | 0/250 [00:00<?, ?it/s]"
     ]
    },
    {
     "name": "stdout",
     "output_type": "stream",
     "text": [
      "\n",
      "train_loss: 0.6906049847602844, train_acc: 54.53327361872233, valid_loss: 0.6900164484977722, valid_acc: 54.08189188128782\n",
      "Epoch 5/100\n"
     ]
    },
    {
     "name": "stderr",
     "output_type": "stream",
     "text": [
      "100%|██████████| 250/250 [00:17<00:00, 14.44it/s]\n",
      "  0%|          | 0/250 [00:00<?, ?it/s]"
     ]
    },
    {
     "name": "stdout",
     "output_type": "stream",
     "text": [
      "\n",
      "train_loss: 0.6896219849586487, train_acc: 55.04689551216223, valid_loss: 0.689870297908783, valid_acc: 52.39738052638747\n",
      "Epoch 6/100\n"
     ]
    },
    {
     "name": "stderr",
     "output_type": "stream",
     "text": [
      "100%|██████████| 250/250 [00:17<00:00, 14.44it/s]\n",
      "  0%|          | 0/250 [00:00<?, ?it/s]"
     ]
    },
    {
     "name": "stdout",
     "output_type": "stream",
     "text": [
      "\n",
      "train_loss: 0.6886937022209167, train_acc: 55.37982925407615, valid_loss: 0.6879338622093201, valid_acc: 55.99467022323358\n",
      "Epoch 7/100\n"
     ]
    },
    {
     "name": "stderr",
     "output_type": "stream",
     "text": [
      "100%|██████████| 250/250 [00:17<00:00, 14.43it/s]\n",
      "  0%|          | 0/250 [00:00<?, ?it/s]"
     ]
    },
    {
     "name": "stdout",
     "output_type": "stream",
     "text": [
      "\n",
      "train_loss: 0.6874176263809204, train_acc: 56.14729450652665, valid_loss: 0.6856641173362732, valid_acc: 55.894912230207304\n",
      "Epoch 8/100\n"
     ]
    },
    {
     "name": "stderr",
     "output_type": "stream",
     "text": [
      "100%|██████████| 250/250 [00:17<00:00, 14.66it/s]\n",
      "  0%|          | 0/250 [00:00<?, ?it/s]"
     ]
    },
    {
     "name": "stdout",
     "output_type": "stream",
     "text": [
      "\n",
      "train_loss: 0.6857605576515198, train_acc: 56.849689025677066, valid_loss: 0.6855896711349487, valid_acc: 54.87658033529469\n",
      "Epoch 9/100\n"
     ]
    },
    {
     "name": "stderr",
     "output_type": "stream",
     "text": [
      "100%|██████████| 250/250 [00:17<00:00, 14.62it/s]\n",
      "  0%|          | 0/250 [00:00<?, ?it/s]"
     ]
    },
    {
     "name": "stdout",
     "output_type": "stream",
     "text": [
      "\n",
      "train_loss: 0.6837629675865173, train_acc: 56.801494015848455, valid_loss: 0.6830567121505737, valid_acc: 58.020764941676774\n",
      "Epoch 10/100\n"
     ]
    },
    {
     "name": "stderr",
     "output_type": "stream",
     "text": [
      "100%|██████████| 250/250 [00:17<00:00, 14.61it/s]\n",
      "  0%|          | 0/250 [00:00<?, ?it/s]"
     ]
    },
    {
     "name": "stdout",
     "output_type": "stream",
     "text": [
      "\n",
      "train_loss: 0.6819365620613098, train_acc: 56.72911152567145, valid_loss: 0.6778761744499207, valid_acc: 59.9584276491097\n",
      "Epoch 11/100\n"
     ]
    },
    {
     "name": "stderr",
     "output_type": "stream",
     "text": [
      "100%|██████████| 250/250 [00:17<00:00, 14.76it/s]\n",
      "  0%|          | 0/250 [00:00<?, ?it/s]"
     ]
    },
    {
     "name": "stdout",
     "output_type": "stream",
     "text": [
      "\n",
      "train_loss: 0.6789121627807617, train_acc: 58.10357402919267, valid_loss: 0.6780409812927246, valid_acc: 56.242606349332206\n",
      "Epoch 12/100\n"
     ]
    },
    {
     "name": "stderr",
     "output_type": "stream",
     "text": [
      "100%|██████████| 250/250 [00:17<00:00, 14.59it/s]\n",
      "  0%|          | 0/250 [00:00<?, ?it/s]"
     ]
    },
    {
     "name": "stdout",
     "output_type": "stream",
     "text": [
      "\n",
      "train_loss: 0.6768230199813843, train_acc: 58.03116565818828, valid_loss: 0.673999011516571, valid_acc: 59.131976420507684\n",
      "Epoch 13/100\n"
     ]
    },
    {
     "name": "stderr",
     "output_type": "stream",
     "text": [
      "100%|██████████| 250/250 [00:17<00:00, 14.85it/s]\n",
      "  0%|          | 0/250 [00:00<?, ?it/s]"
     ]
    },
    {
     "name": "stdout",
     "output_type": "stream",
     "text": [
      "\n",
      "train_loss: 0.6733040809631348, train_acc: 58.53903639656481, valid_loss: 0.6681304574012756, valid_acc: 60.27303232233832\n",
      "Epoch 14/100\n"
     ]
    },
    {
     "name": "stderr",
     "output_type": "stream",
     "text": [
      "100%|██████████| 250/250 [00:17<00:00, 14.59it/s]\n",
      "  0%|          | 0/250 [00:00<?, ?it/s]"
     ]
    },
    {
     "name": "stdout",
     "output_type": "stream",
     "text": [
      "\n",
      "train_loss: 0.6705248951911926, train_acc: 59.92597771768134, valid_loss: 0.6714690327644348, valid_acc: 59.09437970466283\n",
      "Epoch 15/100\n"
     ]
    },
    {
     "name": "stderr",
     "output_type": "stream",
     "text": [
      "100%|██████████| 250/250 [00:17<00:00, 14.49it/s]\n",
      "  0%|          | 0/250 [00:00<?, ?it/s]"
     ]
    },
    {
     "name": "stdout",
     "output_type": "stream",
     "text": [
      "\n",
      "train_loss: 0.6681783199310303, train_acc: 59.36043034110546, valid_loss: 0.6618127822875977, valid_acc: 61.30249952622291\n",
      "Epoch 16/100\n"
     ]
    },
    {
     "name": "stderr",
     "output_type": "stream",
     "text": [
      "100%|██████████| 250/250 [00:17<00:00, 14.73it/s]\n",
      "  0%|          | 0/250 [00:00<?, ?it/s]"
     ]
    },
    {
     "name": "stdout",
     "output_type": "stream",
     "text": [
      "\n",
      "train_loss: 0.6645616292953491, train_acc: 59.19026676059376, valid_loss: 0.6601235270500183, valid_acc: 60.807485224627364\n",
      "Epoch 17/100\n"
     ]
    },
    {
     "name": "stderr",
     "output_type": "stream",
     "text": [
      "100%|██████████| 250/250 [00:17<00:00, 14.81it/s]\n",
      "  0%|          | 0/250 [00:00<?, ?it/s]"
     ]
    },
    {
     "name": "stdout",
     "output_type": "stream",
     "text": [
      "\n",
      "train_loss: 0.661151111125946, train_acc: 60.97584981969407, valid_loss: 0.6584104299545288, valid_acc: 61.141761566468276\n",
      "Epoch 18/100\n"
     ]
    },
    {
     "name": "stderr",
     "output_type": "stream",
     "text": [
      "100%|██████████| 250/250 [00:17<00:00, 14.39it/s]\n",
      "  0%|          | 0/250 [00:00<?, ?it/s]"
     ]
    },
    {
     "name": "stdout",
     "output_type": "stream",
     "text": [
      "\n",
      "train_loss: 0.6594252586364746, train_acc: 60.63015353711819, valid_loss: 0.655601978302002, valid_acc: 61.57337699647314\n",
      "Epoch 19/100\n"
     ]
    },
    {
     "name": "stderr",
     "output_type": "stream",
     "text": [
      "100%|██████████| 250/250 [00:17<00:00, 14.65it/s]\n",
      "  0%|          | 0/250 [00:00<?, ?it/s]"
     ]
    },
    {
     "name": "stdout",
     "output_type": "stream",
     "text": [
      "\n",
      "train_loss: 0.6556634306907654, train_acc: 61.14602675077594, valid_loss: 0.6502322554588318, valid_acc: 61.91810392062339\n",
      "Epoch 20/100\n"
     ]
    },
    {
     "name": "stderr",
     "output_type": "stream",
     "text": [
      "100%|██████████| 250/250 [00:17<00:00, 14.63it/s]\n",
      "  0%|          | 0/250 [00:00<?, ?it/s]"
     ]
    },
    {
     "name": "stdout",
     "output_type": "stream",
     "text": [
      "\n",
      "train_loss: 0.6521233320236206, train_acc: 61.16133553981744, valid_loss: 0.6475959420204163, valid_acc: 62.386763809905766\n",
      "Epoch 21/100\n"
     ]
    },
    {
     "name": "stderr",
     "output_type": "stream",
     "text": [
      "100%|██████████| 250/250 [00:17<00:00, 14.51it/s]\n",
      "  0%|          | 0/250 [00:00<?, ?it/s]"
     ]
    },
    {
     "name": "stdout",
     "output_type": "stream",
     "text": [
      "\n",
      "train_loss: 0.6485194563865662, train_acc: 61.422656641786574, valid_loss: 0.6502894759178162, valid_acc: 62.128569852028924\n",
      "Epoch 22/100\n"
     ]
    },
    {
     "name": "stderr",
     "output_type": "stream",
     "text": [
      "100%|██████████| 250/250 [00:17<00:00, 14.67it/s]\n",
      "  0%|          | 0/250 [00:00<?, ?it/s]"
     ]
    },
    {
     "name": "stdout",
     "output_type": "stream",
     "text": [
      "\n",
      "train_loss: 0.6481691598892212, train_acc: 61.88047765871516, valid_loss: 0.6658605933189392, valid_acc: 57.560629760466966\n",
      "Epoch 23/100\n"
     ]
    },
    {
     "name": "stderr",
     "output_type": "stream",
     "text": [
      "100%|██████████| 250/250 [00:17<00:00, 14.70it/s]\n",
      "  0%|          | 0/250 [00:00<?, ?it/s]"
     ]
    },
    {
     "name": "stdout",
     "output_type": "stream",
     "text": [
      "\n",
      "train_loss: 0.6418377161026001, train_acc: 62.722220078472915, valid_loss: 0.6344516277313232, valid_acc: 64.23504281406858\n",
      "Epoch 24/100\n"
     ]
    },
    {
     "name": "stderr",
     "output_type": "stream",
     "text": [
      "100%|██████████| 250/250 [00:17<00:00, 14.54it/s]\n",
      "  0%|          | 0/250 [00:00<?, ?it/s]"
     ]
    },
    {
     "name": "stdout",
     "output_type": "stream",
     "text": [
      "\n",
      "train_loss: 0.6376298069953918, train_acc: 63.42318671440883, valid_loss: 0.6347023248672485, valid_acc: 63.69759200256361\n",
      "Epoch 25/100\n"
     ]
    },
    {
     "name": "stderr",
     "output_type": "stream",
     "text": [
      "100%|██████████| 250/250 [00:17<00:00, 14.63it/s]\n",
      "  0%|          | 0/250 [00:00<?, ?it/s]"
     ]
    },
    {
     "name": "stdout",
     "output_type": "stream",
     "text": [
      "\n",
      "train_loss: 0.6335791349411011, train_acc: 64.06509181113341, valid_loss: 0.6446325182914734, valid_acc: 62.815992847237986\n",
      "Epoch 26/100\n"
     ]
    },
    {
     "name": "stderr",
     "output_type": "stream",
     "text": [
      "100%|██████████| 250/250 [00:17<00:00, 14.68it/s]\n",
      "  0%|          | 0/250 [00:00<?, ?it/s]"
     ]
    },
    {
     "name": "stdout",
     "output_type": "stream",
     "text": [
      "\n",
      "train_loss: 0.6327356100082397, train_acc: 63.87866794854587, valid_loss: 0.6256667971611023, valid_acc: 66.03924657114743\n",
      "Epoch 27/100\n"
     ]
    },
    {
     "name": "stderr",
     "output_type": "stream",
     "text": [
      "100%|██████████| 250/250 [00:17<00:00, 14.71it/s]\n",
      "  0%|          | 0/250 [00:00<?, ?it/s]"
     ]
    },
    {
     "name": "stdout",
     "output_type": "stream",
     "text": [
      "\n",
      "train_loss: 0.6266655921936035, train_acc: 64.62191800757658, valid_loss: 0.6335140466690063, valid_acc: 60.985005328140375\n",
      "Epoch 28/100\n"
     ]
    },
    {
     "name": "stderr",
     "output_type": "stream",
     "text": [
      "100%|██████████| 250/250 [00:17<00:00, 14.56it/s]\n",
      "  0%|          | 0/250 [00:00<?, ?it/s]"
     ]
    },
    {
     "name": "stdout",
     "output_type": "stream",
     "text": [
      "\n",
      "train_loss: 0.6236879229545593, train_acc: 65.7409744461335, valid_loss: 0.6228858828544617, valid_acc: 64.53008891977223\n",
      "Epoch 29/100\n"
     ]
    },
    {
     "name": "stderr",
     "output_type": "stream",
     "text": [
      "100%|██████████| 250/250 [00:17<00:00, 14.82it/s]\n",
      "  0%|          | 0/250 [00:00<?, ?it/s]"
     ]
    },
    {
     "name": "stdout",
     "output_type": "stream",
     "text": [
      "\n",
      "train_loss: 0.6202166080474854, train_acc: 64.83716796759484, valid_loss: 0.6181164383888245, valid_acc: 64.19272977397841\n",
      "Epoch 30/100\n"
     ]
    },
    {
     "name": "stderr",
     "output_type": "stream",
     "text": [
      "100%|██████████| 250/250 [00:17<00:00, 14.61it/s]\n",
      "  0%|          | 0/250 [00:00<?, ?it/s]"
     ]
    },
    {
     "name": "stdout",
     "output_type": "stream",
     "text": [
      "\n",
      "train_loss: 0.61729496717453, train_acc: 65.79242024220596, valid_loss: 0.6197649836540222, valid_acc: 65.68643211735427\n",
      "Epoch 31/100\n"
     ]
    },
    {
     "name": "stderr",
     "output_type": "stream",
     "text": [
      "100%|██████████| 250/250 [00:17<00:00, 14.65it/s]\n",
      "  0%|          | 0/250 [00:00<?, ?it/s]"
     ]
    },
    {
     "name": "stdout",
     "output_type": "stream",
     "text": [
      "\n",
      "train_loss: 0.6137694716453552, train_acc: 66.5953366822401, valid_loss: 0.6120125651359558, valid_acc: 66.5655484907245\n",
      "Epoch 32/100\n"
     ]
    },
    {
     "name": "stderr",
     "output_type": "stream",
     "text": [
      "100%|██████████| 250/250 [00:17<00:00, 14.67it/s]\n",
      "  0%|          | 0/250 [00:00<?, ?it/s]"
     ]
    },
    {
     "name": "stdout",
     "output_type": "stream",
     "text": [
      "\n",
      "train_loss: 0.6122452020645142, train_acc: 67.65941095739907, valid_loss: 0.6140419244766235, valid_acc: 66.56710949748904\n",
      "Epoch 33/100\n"
     ]
    },
    {
     "name": "stderr",
     "output_type": "stream",
     "text": [
      "100%|██████████| 250/250 [00:17<00:00, 14.76it/s]\n",
      "  0%|          | 0/250 [00:00<?, ?it/s]"
     ]
    },
    {
     "name": "stdout",
     "output_type": "stream",
     "text": [
      "\n",
      "train_loss: 0.6095800995826721, train_acc: 65.93340814036486, valid_loss: 0.6128605008125305, valid_acc: 65.82804250148943\n",
      "Epoch 34/100\n"
     ]
    },
    {
     "name": "stderr",
     "output_type": "stream",
     "text": [
      "100%|██████████| 250/250 [00:17<00:00, 14.63it/s]\n",
      "  0%|          | 0/250 [00:00<?, ?it/s]"
     ]
    },
    {
     "name": "stdout",
     "output_type": "stream",
     "text": [
      "\n",
      "train_loss: 0.6097579002380371, train_acc: 67.04169613538042, valid_loss: 0.606428861618042, valid_acc: 67.42689462919206\n",
      "Epoch 35/100\n"
     ]
    },
    {
     "name": "stderr",
     "output_type": "stream",
     "text": [
      "100%|██████████| 250/250 [00:17<00:00, 14.81it/s]\n",
      "  0%|          | 0/250 [00:00<?, ?it/s]"
     ]
    },
    {
     "name": "stdout",
     "output_type": "stream",
     "text": [
      "\n",
      "train_loss: 0.607787013053894, train_acc: 66.88630270652962, valid_loss: 0.6062102913856506, valid_acc: 66.46242548240346\n",
      "Epoch 36/100\n"
     ]
    },
    {
     "name": "stderr",
     "output_type": "stream",
     "text": [
      "100%|██████████| 250/250 [00:17<00:00, 14.75it/s]\n",
      "  0%|          | 0/250 [00:00<?, ?it/s]"
     ]
    },
    {
     "name": "stdout",
     "output_type": "stream",
     "text": [
      "\n",
      "train_loss: 0.6048984527587891, train_acc: 67.9075465211183, valid_loss: 0.6138296127319336, valid_acc: 65.72992383455325\n",
      "Epoch 37/100\n"
     ]
    },
    {
     "name": "stderr",
     "output_type": "stream",
     "text": [
      "100%|██████████| 250/250 [00:17<00:00, 14.58it/s]\n",
      "  0%|          | 0/250 [00:00<?, ?it/s]"
     ]
    },
    {
     "name": "stdout",
     "output_type": "stream",
     "text": [
      "\n",
      "train_loss: 0.6039204597473145, train_acc: 67.41575333353587, valid_loss: 0.6197585463523865, valid_acc: 65.06953543879995\n",
      "Epoch 38/100\n"
     ]
    },
    {
     "name": "stderr",
     "output_type": "stream",
     "text": [
      "100%|██████████| 250/250 [00:17<00:00, 14.69it/s]\n",
      "  0%|          | 0/250 [00:00<?, ?it/s]"
     ]
    },
    {
     "name": "stdout",
     "output_type": "stream",
     "text": [
      "\n",
      "train_loss: 0.6028443574905396, train_acc: 67.33646848627698, valid_loss: 0.6015389561653137, valid_acc: 68.71864314337994\n",
      "Epoch 39/100\n"
     ]
    },
    {
     "name": "stderr",
     "output_type": "stream",
     "text": [
      "100%|██████████| 250/250 [00:17<00:00, 14.72it/s]\n",
      "  0%|          | 0/250 [00:00<?, ?it/s]"
     ]
    },
    {
     "name": "stdout",
     "output_type": "stream",
     "text": [
      "\n",
      "train_loss: 0.6017124652862549, train_acc: 67.88737174773924, valid_loss: 0.6142194271087646, valid_acc: 64.99679856756025\n",
      "Epoch 40/100\n"
     ]
    },
    {
     "name": "stderr",
     "output_type": "stream",
     "text": [
      "100%|██████████| 250/250 [00:17<00:00, 14.69it/s]\n",
      "  0%|          | 0/250 [00:00<?, ?it/s]"
     ]
    },
    {
     "name": "stdout",
     "output_type": "stream",
     "text": [
      "\n",
      "train_loss: 0.598910391330719, train_acc: 67.5044877298936, valid_loss: 0.6117457747459412, valid_acc: 65.81074697515461\n",
      "Epoch 41/100\n"
     ]
    },
    {
     "name": "stderr",
     "output_type": "stream",
     "text": [
      "100%|██████████| 250/250 [00:17<00:00, 14.53it/s]\n",
      "  0%|          | 0/250 [00:00<?, ?it/s]"
     ]
    },
    {
     "name": "stdout",
     "output_type": "stream",
     "text": [
      "\n",
      "train_loss: 0.5957842469215393, train_acc: 68.0626213802651, valid_loss: 0.6120328307151794, valid_acc: 65.76310368927575\n",
      "Epoch 42/100\n"
     ]
    },
    {
     "name": "stderr",
     "output_type": "stream",
     "text": [
      "100%|██████████| 250/250 [00:17<00:00, 14.77it/s]\n",
      "  0%|          | 0/250 [00:00<?, ?it/s]"
     ]
    },
    {
     "name": "stdout",
     "output_type": "stream",
     "text": [
      "\n",
      "train_loss: 0.5973617434501648, train_acc: 67.7018860141793, valid_loss: 0.6035057306289673, valid_acc: 66.44150904510441\n",
      "Epoch 43/100\n"
     ]
    },
    {
     "name": "stderr",
     "output_type": "stream",
     "text": [
      "100%|██████████| 250/250 [00:17<00:00, 14.55it/s]\n",
      "  0%|          | 0/250 [00:00<?, ?it/s]"
     ]
    },
    {
     "name": "stdout",
     "output_type": "stream",
     "text": [
      "\n",
      "train_loss: 0.5958500504493713, train_acc: 68.45245134822065, valid_loss: 0.6001284718513489, valid_acc: 65.73353530008872\n",
      "Epoch 44/100\n"
     ]
    },
    {
     "name": "stderr",
     "output_type": "stream",
     "text": [
      "100%|██████████| 250/250 [00:17<00:00, 14.55it/s]\n",
      "  0%|          | 0/250 [00:00<?, ?it/s]"
     ]
    },
    {
     "name": "stdout",
     "output_type": "stream",
     "text": [
      "\n",
      "train_loss: 0.5935605764389038, train_acc: 68.69343628268547, valid_loss: 0.6020035743713379, valid_acc: 67.7834943206679\n",
      "Epoch 45/100\n"
     ]
    },
    {
     "name": "stderr",
     "output_type": "stream",
     "text": [
      "100%|██████████| 250/250 [00:17<00:00, 14.75it/s]\n",
      "  0%|          | 0/250 [00:00<?, ?it/s]"
     ]
    },
    {
     "name": "stdout",
     "output_type": "stream",
     "text": [
      "\n",
      "train_loss: 0.5934892892837524, train_acc: 67.75969551062764, valid_loss: 0.5953142046928406, valid_acc: 68.70894807122397\n",
      "Epoch 46/100\n"
     ]
    },
    {
     "name": "stderr",
     "output_type": "stream",
     "text": [
      "100%|██████████| 250/250 [00:17<00:00, 14.56it/s]\n",
      "  0%|          | 0/250 [00:00<?, ?it/s]"
     ]
    },
    {
     "name": "stdout",
     "output_type": "stream",
     "text": [
      "\n",
      "train_loss: 0.5903574824333191, train_acc: 69.07831037911014, valid_loss: 0.5943370461463928, valid_acc: 67.67381969001815\n",
      "Epoch 47/100\n"
     ]
    },
    {
     "name": "stderr",
     "output_type": "stream",
     "text": [
      "100%|██████████| 250/250 [00:17<00:00, 14.75it/s]\n",
      "  0%|          | 0/250 [00:00<?, ?it/s]"
     ]
    },
    {
     "name": "stdout",
     "output_type": "stream",
     "text": [
      "\n",
      "train_loss: 0.5899531245231628, train_acc: 68.91544838807754, valid_loss: 0.5945171117782593, valid_acc: 67.83415935045382\n",
      "Epoch 48/100\n"
     ]
    },
    {
     "name": "stderr",
     "output_type": "stream",
     "text": [
      "100%|██████████| 250/250 [00:17<00:00, 14.47it/s]\n",
      "  0%|          | 0/250 [00:00<?, ?it/s]"
     ]
    },
    {
     "name": "stdout",
     "output_type": "stream",
     "text": [
      "\n",
      "train_loss: 0.5887131690979004, train_acc: 69.80008589796121, valid_loss: 0.594160795211792, valid_acc: 67.95792476225947\n",
      "Epoch 49/100\n"
     ]
    },
    {
     "name": "stderr",
     "output_type": "stream",
     "text": [
      "100%|██████████| 250/250 [00:17<00:00, 14.58it/s]\n",
      "  0%|          | 0/250 [00:00<?, ?it/s]"
     ]
    },
    {
     "name": "stdout",
     "output_type": "stream",
     "text": [
      "\n",
      "train_loss: 0.5858006477355957, train_acc: 68.68439765869498, valid_loss: 0.5884914994239807, valid_acc: 69.20729823412391\n",
      "Epoch 50/100\n"
     ]
    },
    {
     "name": "stderr",
     "output_type": "stream",
     "text": [
      "100%|██████████| 250/250 [00:17<00:00, 14.44it/s]\n",
      "  0%|          | 0/250 [00:00<?, ?it/s]"
     ]
    },
    {
     "name": "stdout",
     "output_type": "stream",
     "text": [
      "\n",
      "train_loss: 0.5850964784622192, train_acc: 69.78472803708749, valid_loss: 0.5939870476722717, valid_acc: 68.68204047752118\n",
      "Epoch 51/100\n"
     ]
    },
    {
     "name": "stderr",
     "output_type": "stream",
     "text": [
      "100%|██████████| 250/250 [00:17<00:00, 14.71it/s]\n",
      "  0%|          | 0/250 [00:00<?, ?it/s]"
     ]
    },
    {
     "name": "stdout",
     "output_type": "stream",
     "text": [
      "\n",
      "train_loss: 0.5868164896965027, train_acc: 69.85896289724126, valid_loss: 0.5927030444145203, valid_acc: 68.58049979704565\n",
      "Epoch 52/100\n"
     ]
    },
    {
     "name": "stderr",
     "output_type": "stream",
     "text": [
      "100%|██████████| 250/250 [00:17<00:00, 14.66it/s]\n",
      "  0%|          | 0/250 [00:00<?, ?it/s]"
     ]
    },
    {
     "name": "stdout",
     "output_type": "stream",
     "text": [
      "\n",
      "train_loss: 0.5857794284820557, train_acc: 69.35519021393947, valid_loss: 0.5887488126754761, valid_acc: 68.10641916264086\n",
      "Epoch 53/100\n"
     ]
    },
    {
     "name": "stderr",
     "output_type": "stream",
     "text": [
      "100%|██████████| 250/250 [00:17<00:00, 14.43it/s]\n",
      "  0%|          | 0/250 [00:00<?, ?it/s]"
     ]
    },
    {
     "name": "stdout",
     "output_type": "stream",
     "text": [
      "\n",
      "train_loss: 0.586605966091156, train_acc: 69.1768610545315, valid_loss: 0.5858736634254456, valid_acc: 69.82766323996626\n",
      "Epoch 54/100\n"
     ]
    },
    {
     "name": "stderr",
     "output_type": "stream",
     "text": [
      "100%|██████████| 250/250 [00:16<00:00, 14.73it/s]\n",
      "  0%|          | 0/250 [00:00<?, ?it/s]"
     ]
    },
    {
     "name": "stdout",
     "output_type": "stream",
     "text": [
      "\n",
      "train_loss: 0.5830691456794739, train_acc: 69.84579295892829, valid_loss: 0.5823893547058105, valid_acc: 67.4449456225232\n",
      "Epoch 55/100\n"
     ]
    },
    {
     "name": "stderr",
     "output_type": "stream",
     "text": [
      "100%|██████████| 250/250 [00:16<00:00, 14.77it/s]\n",
      "  0%|          | 0/250 [00:00<?, ?it/s]"
     ]
    },
    {
     "name": "stdout",
     "output_type": "stream",
     "text": [
      "\n",
      "train_loss: 0.5827730298042297, train_acc: 68.72125916753195, valid_loss: 0.5886029005050659, valid_acc: 66.88081942442837\n",
      "Epoch 56/100\n"
     ]
    },
    {
     "name": "stderr",
     "output_type": "stream",
     "text": [
      "100%|██████████| 250/250 [00:17<00:00, 14.70it/s]\n",
      "  0%|          | 0/250 [00:00<?, ?it/s]"
     ]
    },
    {
     "name": "stdout",
     "output_type": "stream",
     "text": [
      "\n",
      "train_loss: 0.5805429220199585, train_acc: 69.69375286224036, valid_loss: 0.5872617959976196, valid_acc: 69.2984467532464\n",
      "Epoch 57/100\n"
     ]
    },
    {
     "name": "stderr",
     "output_type": "stream",
     "text": [
      "100%|██████████| 250/250 [00:17<00:00, 14.50it/s]\n",
      "  0%|          | 0/250 [00:00<?, ?it/s]"
     ]
    },
    {
     "name": "stdout",
     "output_type": "stream",
     "text": [
      "\n",
      "train_loss: 0.5809487700462341, train_acc: 69.61067033677733, valid_loss: 0.5876259207725525, valid_acc: 67.12170270882528\n",
      "Epoch 58/100\n"
     ]
    },
    {
     "name": "stderr",
     "output_type": "stream",
     "text": [
      "100%|██████████| 250/250 [00:17<00:00, 14.66it/s]\n",
      "  0%|          | 0/250 [00:00<?, ?it/s]"
     ]
    },
    {
     "name": "stdout",
     "output_type": "stream",
     "text": [
      "\n",
      "train_loss: 0.580505907535553, train_acc: 68.97437501604293, valid_loss: 0.5809106826782227, valid_acc: 69.12762591578168\n",
      "Epoch 59/100\n"
     ]
    },
    {
     "name": "stderr",
     "output_type": "stream",
     "text": [
      "100%|██████████| 250/250 [00:17<00:00, 14.83it/s]\n",
      "  0%|          | 0/250 [00:00<?, ?it/s]"
     ]
    },
    {
     "name": "stdout",
     "output_type": "stream",
     "text": [
      "\n",
      "train_loss: 0.577383816242218, train_acc: 70.1113631301823, valid_loss: 0.5837250351905823, valid_acc: 69.17388929239473\n",
      "Epoch 60/100\n"
     ]
    },
    {
     "name": "stderr",
     "output_type": "stream",
     "text": [
      "100%|██████████| 250/250 [00:17<00:00, 14.76it/s]\n",
      "  0%|          | 0/250 [00:00<?, ?it/s]"
     ]
    },
    {
     "name": "stdout",
     "output_type": "stream",
     "text": [
      "\n",
      "train_loss: 0.5770896077156067, train_acc: 69.91757844392968, valid_loss: 0.5824355483055115, valid_acc: 69.17982731262215\n",
      "Epoch 61/100\n"
     ]
    },
    {
     "name": "stderr",
     "output_type": "stream",
     "text": [
      "100%|██████████| 250/250 [00:17<00:00, 14.77it/s]\n",
      "  0%|          | 0/250 [00:00<?, ?it/s]"
     ]
    },
    {
     "name": "stdout",
     "output_type": "stream",
     "text": [
      "\n",
      "train_loss: 0.5758497714996338, train_acc: 69.71375743677162, valid_loss: 0.5808229446411133, valid_acc: 69.49924810331346\n",
      "Epoch 62/100\n"
     ]
    },
    {
     "name": "stderr",
     "output_type": "stream",
     "text": [
      "100%|██████████| 250/250 [00:17<00:00, 14.49it/s]\n",
      "  0%|          | 0/250 [00:00<?, ?it/s]"
     ]
    },
    {
     "name": "stdout",
     "output_type": "stream",
     "text": [
      "\n",
      "train_loss: 0.5750714540481567, train_acc: 70.75182440179053, valid_loss: 0.5767399668693542, valid_acc: 70.00923127194143\n",
      "Epoch 63/100\n"
     ]
    },
    {
     "name": "stderr",
     "output_type": "stream",
     "text": [
      "100%|██████████| 250/250 [00:17<00:00, 13.36it/s]\n",
      "  0%|          | 0/250 [00:00<?, ?it/s]"
     ]
    },
    {
     "name": "stdout",
     "output_type": "stream",
     "text": [
      "\n",
      "train_loss: 0.5736591815948486, train_acc: 70.28657081359094, valid_loss: 0.5749519467353821, valid_acc: 68.91844165429644\n",
      "Epoch 64/100\n"
     ]
    },
    {
     "name": "stderr",
     "output_type": "stream",
     "text": [
      "100%|██████████| 250/250 [00:17<00:00, 14.85it/s]\n",
      "  0%|          | 0/250 [00:00<?, ?it/s]"
     ]
    },
    {
     "name": "stdout",
     "output_type": "stream",
     "text": [
      "\n",
      "train_loss: 0.571812629699707, train_acc: 70.63519695247194, valid_loss: 0.5802775621414185, valid_acc: 68.49641240106746\n",
      "Epoch 65/100\n"
     ]
    },
    {
     "name": "stderr",
     "output_type": "stream",
     "text": [
      "100%|██████████| 250/250 [00:17<00:00, 14.71it/s]\n",
      "  0%|          | 0/250 [00:00<?, ?it/s]"
     ]
    },
    {
     "name": "stdout",
     "output_type": "stream",
     "text": [
      "\n",
      "train_loss: 0.5733658075332642, train_acc: 70.07238153160132, valid_loss: 0.5859566330909729, valid_acc: 67.23655802459194\n",
      "Epoch 66/100\n"
     ]
    },
    {
     "name": "stderr",
     "output_type": "stream",
     "text": [
      "100%|██████████| 250/250 [00:17<00:00, 14.63it/s]\n",
      "  0%|          | 0/250 [00:00<?, ?it/s]"
     ]
    },
    {
     "name": "stdout",
     "output_type": "stream",
     "text": [
      "\n",
      "train_loss: 0.5721427798271179, train_acc: 70.69572155169972, valid_loss: 0.5728212594985962, valid_acc: 70.06780456636722\n",
      "Epoch 67/100\n"
     ]
    },
    {
     "name": "stderr",
     "output_type": "stream",
     "text": [
      "100%|██████████| 250/250 [00:17<00:00, 14.60it/s]\n",
      "  0%|          | 0/250 [00:00<?, ?it/s]"
     ]
    },
    {
     "name": "stdout",
     "output_type": "stream",
     "text": [
      "\n",
      "train_loss: 0.5704730749130249, train_acc: 69.89970072422605, valid_loss: 0.5893929600715637, valid_acc: 67.32697245505643\n",
      "Epoch 68/100\n"
     ]
    },
    {
     "name": "stderr",
     "output_type": "stream",
     "text": [
      "100%|██████████| 250/250 [00:17<00:00, 14.72it/s]\n",
      "  0%|          | 0/250 [00:00<?, ?it/s]"
     ]
    },
    {
     "name": "stdout",
     "output_type": "stream",
     "text": [
      "\n",
      "train_loss: 0.5688832998275757, train_acc: 70.97090793949654, valid_loss: 0.5711925029754639, valid_acc: 69.8106533017786\n",
      "Epoch 69/100\n"
     ]
    },
    {
     "name": "stderr",
     "output_type": "stream",
     "text": [
      "100%|██████████| 250/250 [00:17<00:00, 14.74it/s]\n",
      "  0%|          | 0/250 [00:00<?, ?it/s]"
     ]
    },
    {
     "name": "stdout",
     "output_type": "stream",
     "text": [
      "\n",
      "train_loss: 0.5691027045249939, train_acc: 69.56928835090729, valid_loss: 0.572443962097168, valid_acc: 68.50344906398374\n",
      "Epoch 70/100\n"
     ]
    },
    {
     "name": "stderr",
     "output_type": "stream",
     "text": [
      "100%|██████████| 250/250 [00:17<00:00, 14.81it/s]\n",
      "  0%|          | 0/250 [00:00<?, ?it/s]"
     ]
    },
    {
     "name": "stdout",
     "output_type": "stream",
     "text": [
      "\n",
      "train_loss: 0.5659330487251282, train_acc: 71.35917664072305, valid_loss: 0.5754882097244263, valid_acc: 68.98967825384125\n",
      "Epoch 71/100\n"
     ]
    },
    {
     "name": "stderr",
     "output_type": "stream",
     "text": [
      "100%|██████████| 250/250 [00:17<00:00, 14.76it/s]\n",
      "  0%|          | 0/250 [00:00<?, ?it/s]"
     ]
    },
    {
     "name": "stdout",
     "output_type": "stream",
     "text": [
      "\n",
      "train_loss: 0.5658192038536072, train_acc: 70.22217584606534, valid_loss: 0.5719672441482544, valid_acc: 69.52583618010192\n",
      "Epoch 72/100\n"
     ]
    },
    {
     "name": "stderr",
     "output_type": "stream",
     "text": [
      "100%|██████████| 250/250 [00:17<00:00, 14.58it/s]\n",
      "  0%|          | 0/250 [00:00<?, ?it/s]"
     ]
    },
    {
     "name": "stdout",
     "output_type": "stream",
     "text": [
      "\n",
      "train_loss: 0.5649549961090088, train_acc: 71.29685060051855, valid_loss: 0.574378490447998, valid_acc: 69.48602106065381\n",
      "Epoch 73/100\n"
     ]
    },
    {
     "name": "stderr",
     "output_type": "stream",
     "text": [
      "100%|██████████| 250/250 [00:17<00:00, 14.63it/s]\n",
      "  0%|          | 0/250 [00:00<?, ?it/s]"
     ]
    },
    {
     "name": "stdout",
     "output_type": "stream",
     "text": [
      "\n",
      "train_loss: 0.5615028142929077, train_acc: 72.29682694994779, valid_loss: 0.5647953152656555, valid_acc: 71.28683611522104\n",
      "Epoch 74/100\n"
     ]
    },
    {
     "name": "stderr",
     "output_type": "stream",
     "text": [
      "100%|██████████| 250/250 [00:17<00:00, 14.69it/s]\n",
      "  0%|          | 0/250 [00:00<?, ?it/s]"
     ]
    },
    {
     "name": "stdout",
     "output_type": "stream",
     "text": [
      "\n",
      "train_loss: 0.5632172226905823, train_acc: 71.54913555041034, valid_loss: 0.5648401975631714, valid_acc: 70.0080398494382\n",
      "Epoch 75/100\n"
     ]
    },
    {
     "name": "stderr",
     "output_type": "stream",
     "text": [
      "100%|██████████| 250/250 [00:17<00:00, 14.78it/s]\n",
      "  0%|          | 0/250 [00:00<?, ?it/s]"
     ]
    },
    {
     "name": "stdout",
     "output_type": "stream",
     "text": [
      "\n",
      "train_loss: 0.5618177652359009, train_acc: 70.92412513764907, valid_loss: 0.567070722579956, valid_acc: 70.381281217495\n",
      "Epoch 76/100\n"
     ]
    },
    {
     "name": "stderr",
     "output_type": "stream",
     "text": [
      "100%|██████████| 250/250 [00:17<00:00, 14.73it/s]\n",
      "  0%|          | 0/250 [00:00<?, ?it/s]"
     ]
    },
    {
     "name": "stdout",
     "output_type": "stream",
     "text": [
      "\n",
      "train_loss: 0.5622780323028564, train_acc: 71.78528976281066, valid_loss: 0.5745543241500854, valid_acc: 69.48253452902574\n",
      "Epoch 77/100\n"
     ]
    },
    {
     "name": "stderr",
     "output_type": "stream",
     "text": [
      "100%|██████████| 250/250 [00:17<00:00, 14.55it/s]\n",
      "  0%|          | 0/250 [00:00<?, ?it/s]"
     ]
    },
    {
     "name": "stdout",
     "output_type": "stream",
     "text": [
      "\n",
      "train_loss: 0.5612167716026306, train_acc: 70.74216890301219, valid_loss: 0.5667645931243896, valid_acc: 70.23437260796989\n",
      "Epoch 78/100\n"
     ]
    },
    {
     "name": "stderr",
     "output_type": "stream",
     "text": [
      "100%|██████████| 250/250 [00:17<00:00, 14.60it/s]\n",
      "  0%|          | 0/250 [00:00<?, ?it/s]"
     ]
    },
    {
     "name": "stdout",
     "output_type": "stream",
     "text": [
      "\n",
      "train_loss: 0.5610052347183228, train_acc: 71.63470185614635, valid_loss: 0.5622993111610413, valid_acc: 70.55744503775891\n",
      "Epoch 79/100\n"
     ]
    },
    {
     "name": "stderr",
     "output_type": "stream",
     "text": [
      "100%|██████████| 250/250 [00:17<00:00, 14.46it/s]\n",
      "  0%|          | 0/250 [00:00<?, ?it/s]"
     ]
    },
    {
     "name": "stdout",
     "output_type": "stream",
     "text": [
      "\n",
      "train_loss: 0.5595505833625793, train_acc: 71.7383496269593, valid_loss: 0.5693033337593079, valid_acc: 69.40183781587335\n",
      "Epoch 80/100\n"
     ]
    },
    {
     "name": "stderr",
     "output_type": "stream",
     "text": [
      "100%|██████████| 250/250 [00:17<00:00, 14.70it/s]\n",
      "  0%|          | 0/250 [00:00<?, ?it/s]"
     ]
    },
    {
     "name": "stdout",
     "output_type": "stream",
     "text": [
      "\n",
      "train_loss: 0.5583363771438599, train_acc: 71.42161730581671, valid_loss: 0.5569806098937988, valid_acc: 70.47657741255877\n",
      "Epoch 81/100\n"
     ]
    },
    {
     "name": "stderr",
     "output_type": "stream",
     "text": [
      "100%|██████████| 250/250 [00:17<00:00, 14.56it/s]\n",
      "  0%|          | 0/250 [00:00<?, ?it/s]"
     ]
    },
    {
     "name": "stdout",
     "output_type": "stream",
     "text": [
      "\n",
      "train_loss: 0.555637001991272, train_acc: 71.24891060024822, valid_loss: 0.5576102137565613, valid_acc: 69.96655608949992\n",
      "Epoch 82/100\n"
     ]
    },
    {
     "name": "stderr",
     "output_type": "stream",
     "text": [
      "100%|██████████| 250/250 [00:17<00:00, 14.49it/s]\n",
      "  0%|          | 0/250 [00:00<?, ?it/s]"
     ]
    },
    {
     "name": "stdout",
     "output_type": "stream",
     "text": [
      "\n",
      "train_loss: 0.5573834776878357, train_acc: 72.1782584468986, valid_loss: 0.5636456608772278, valid_acc: 70.19529193725428\n",
      "Epoch 83/100\n"
     ]
    },
    {
     "name": "stderr",
     "output_type": "stream",
     "text": [
      "100%|██████████| 250/250 [00:17<00:00, 14.74it/s]\n",
      "  0%|          | 0/250 [00:00<?, ?it/s]"
     ]
    },
    {
     "name": "stdout",
     "output_type": "stream",
     "text": [
      "\n",
      "train_loss: 0.5557975769042969, train_acc: 71.67463599709264, valid_loss: 0.5632843971252441, valid_acc: 70.3699653595668\n",
      "Epoch 84/100\n"
     ]
    },
    {
     "name": "stderr",
     "output_type": "stream",
     "text": [
      "100%|██████████| 250/250 [00:17<00:00, 14.55it/s]\n",
      "  0%|          | 0/250 [00:00<?, ?it/s]"
     ]
    },
    {
     "name": "stdout",
     "output_type": "stream",
     "text": [
      "\n",
      "train_loss: 0.5555405020713806, train_acc: 71.46401319627935, valid_loss: 0.5657907724380493, valid_acc: 69.75917127971346\n",
      "Epoch 85/100\n"
     ]
    },
    {
     "name": "stderr",
     "output_type": "stream",
     "text": [
      "100%|██████████| 250/250 [00:17<00:00, 14.64it/s]\n",
      "  0%|          | 0/250 [00:00<?, ?it/s]"
     ]
    },
    {
     "name": "stdout",
     "output_type": "stream",
     "text": [
      "\n",
      "train_loss: 0.5541694164276123, train_acc: 71.6660682904043, valid_loss: 0.5519405603408813, valid_acc: 70.54539107031177\n",
      "Epoch 86/100\n"
     ]
    },
    {
     "name": "stderr",
     "output_type": "stream",
     "text": [
      "100%|██████████| 250/250 [00:17<00:00, 14.72it/s]\n",
      "  0%|          | 0/250 [00:00<?, ?it/s]"
     ]
    },
    {
     "name": "stdout",
     "output_type": "stream",
     "text": [
      "\n",
      "train_loss: 0.5549407601356506, train_acc: 71.7431931811537, valid_loss: 0.5599674582481384, valid_acc: 71.91137503133112\n",
      "Epoch 87/100\n"
     ]
    },
    {
     "name": "stderr",
     "output_type": "stream",
     "text": [
      "100%|██████████| 250/250 [00:17<00:00, 14.77it/s]\n",
      "  0%|          | 0/250 [00:00<?, ?it/s]"
     ]
    },
    {
     "name": "stdout",
     "output_type": "stream",
     "text": [
      "\n",
      "train_loss: 0.5515012741088867, train_acc: 72.07212458738739, valid_loss: 0.5537819266319275, valid_acc: 71.9006366969228\n",
      "Epoch 88/100\n"
     ]
    },
    {
     "name": "stderr",
     "output_type": "stream",
     "text": [
      "100%|██████████| 250/250 [00:17<00:00, 14.64it/s]\n",
      "  0%|          | 0/250 [00:00<?, ?it/s]"
     ]
    },
    {
     "name": "stdout",
     "output_type": "stream",
     "text": [
      "\n",
      "train_loss: 0.5522953867912292, train_acc: 71.71318800250394, valid_loss: 0.5583174228668213, valid_acc: 69.98327483077573\n",
      "Epoch 89/100\n"
     ]
    },
    {
     "name": "stderr",
     "output_type": "stream",
     "text": [
      "100%|██████████| 250/250 [00:17<00:00, 14.66it/s]\n",
      "  0%|          | 0/250 [00:00<?, ?it/s]"
     ]
    },
    {
     "name": "stdout",
     "output_type": "stream",
     "text": [
      "\n",
      "train_loss: 0.5499333143234253, train_acc: 72.28943825157688, valid_loss: 0.5694091320037842, valid_acc: 70.15130796237992\n",
      "Epoch 90/100\n"
     ]
    },
    {
     "name": "stderr",
     "output_type": "stream",
     "text": [
      "100%|██████████| 250/250 [00:17<00:00, 14.75it/s]\n",
      "  0%|          | 0/250 [00:00<?, ?it/s]"
     ]
    },
    {
     "name": "stdout",
     "output_type": "stream",
     "text": [
      "\n",
      "train_loss: 0.5482317805290222, train_acc: 72.94900859187273, valid_loss: 0.556070864200592, valid_acc: 72.92673197095196\n",
      "Epoch 91/100\n"
     ]
    },
    {
     "name": "stderr",
     "output_type": "stream",
     "text": [
      "100%|██████████| 250/250 [00:17<00:00, 14.52it/s]\n",
      "  0%|          | 0/250 [00:00<?, ?it/s]"
     ]
    },
    {
     "name": "stdout",
     "output_type": "stream",
     "text": [
      "\n",
      "train_loss: 0.5493937730789185, train_acc: 72.41779582844838, valid_loss: 0.5505984425544739, valid_acc: 71.11031809820282\n",
      "Epoch 92/100\n"
     ]
    },
    {
     "name": "stderr",
     "output_type": "stream",
     "text": [
      "100%|██████████| 250/250 [00:17<00:00, 14.57it/s]\n",
      "  0%|          | 0/250 [00:00<?, ?it/s]"
     ]
    },
    {
     "name": "stdout",
     "output_type": "stream",
     "text": [
      "\n",
      "train_loss: 0.5481440424919128, train_acc: 72.15947627429397, valid_loss: 0.5496291518211365, valid_acc: 72.1687226393237\n",
      "Epoch 93/100\n"
     ]
    },
    {
     "name": "stderr",
     "output_type": "stream",
     "text": [
      "100%|██████████| 250/250 [00:17<00:00, 14.58it/s]\n",
      "  0%|          | 0/250 [00:00<?, ?it/s]"
     ]
    },
    {
     "name": "stdout",
     "output_type": "stream",
     "text": [
      "\n",
      "train_loss: 0.5488528609275818, train_acc: 72.34628129651078, valid_loss: 0.5478881597518921, valid_acc: 71.77213148973235\n",
      "Epoch 94/100\n"
     ]
    },
    {
     "name": "stderr",
     "output_type": "stream",
     "text": [
      "100%|██████████| 250/250 [00:17<00:00, 14.42it/s]\n",
      "  0%|          | 0/250 [00:00<?, ?it/s]"
     ]
    },
    {
     "name": "stdout",
     "output_type": "stream",
     "text": [
      "\n",
      "train_loss: 0.5438432693481445, train_acc: 72.18167798276313, valid_loss: 0.5504174828529358, valid_acc: 72.73849297030857\n",
      "Epoch 95/100\n"
     ]
    },
    {
     "name": "stderr",
     "output_type": "stream",
     "text": [
      "100%|██████████| 250/250 [00:17<00:00, 14.69it/s]\n",
      "  0%|          | 0/250 [00:00<?, ?it/s]"
     ]
    },
    {
     "name": "stdout",
     "output_type": "stream",
     "text": [
      "\n",
      "train_loss: 0.5489237904548645, train_acc: 72.17943396128017, valid_loss: 0.554957389831543, valid_acc: 72.96431450650506\n",
      "Epoch 96/100\n"
     ]
    },
    {
     "name": "stderr",
     "output_type": "stream",
     "text": [
      "100%|██████████| 250/250 [00:17<00:00, 14.54it/s]\n",
      "  0%|          | 0/250 [00:00<?, ?it/s]"
     ]
    },
    {
     "name": "stdout",
     "output_type": "stream",
     "text": [
      "\n",
      "train_loss: 0.5448395013809204, train_acc: 71.9480304998366, valid_loss: 0.5466194748878479, valid_acc: 72.1712289590207\n",
      "Epoch 97/100\n"
     ]
    },
    {
     "name": "stderr",
     "output_type": "stream",
     "text": [
      "100%|██████████| 250/250 [00:17<00:00, 14.20it/s]\n",
      "  0%|          | 0/250 [00:00<?, ?it/s]"
     ]
    },
    {
     "name": "stdout",
     "output_type": "stream",
     "text": [
      "\n",
      "train_loss: 0.5431017279624939, train_acc: 72.72682526905373, valid_loss: 0.5508442521095276, valid_acc: 70.62943641970323\n",
      "Epoch 98/100\n"
     ]
    },
    {
     "name": "stderr",
     "output_type": "stream",
     "text": [
      "100%|██████████| 250/250 [00:17<00:00, 14.63it/s]\n",
      "  0%|          | 0/250 [00:00<?, ?it/s]"
     ]
    },
    {
     "name": "stdout",
     "output_type": "stream",
     "text": [
      "\n",
      "train_loss: 0.542725682258606, train_acc: 72.40983524052125, valid_loss: 0.550320565700531, valid_acc: 71.09331174000097\n",
      "Epoch 99/100\n"
     ]
    },
    {
     "name": "stderr",
     "output_type": "stream",
     "text": [
      "100%|██████████| 250/250 [00:17<00:00, 14.50it/s]\n",
      "  0%|          | 0/250 [00:00<?, ?it/s]"
     ]
    },
    {
     "name": "stdout",
     "output_type": "stream",
     "text": [
      "\n",
      "train_loss: 0.5434815883636475, train_acc: 72.73380990996444, valid_loss: 0.5449947118759155, valid_acc: 73.16074314948769\n",
      "Epoch 100/100\n"
     ]
    },
    {
     "name": "stderr",
     "output_type": "stream",
     "text": [
      "100%|██████████| 250/250 [00:17<00:00, 14.51it/s]\n"
     ]
    },
    {
     "name": "stdout",
     "output_type": "stream",
     "text": [
      "\n",
      "train_loss: 0.543746292591095, train_acc: 72.58211576057138, valid_loss: 0.542112410068512, valid_acc: 72.33382202989152\n"
     ]
    }
   ],
   "source": [
    "# Make a nice progress bar - tqdm on colab is a bit buggy though\n",
    "from tqdm import tqdm\n",
    "best_val_acc = 0\n",
    "# Train\n",
    "print('\\nBeginning training.')\n",
    "total_step = len(train_loader)\n",
    "train_losses, train_accuracies = [], []\n",
    "valid_losses, valid_accuracies = [], []\n",
    "\n",
    "for epoch in range(num_epochs):\n",
    "  print('Epoch {}/{}'.format(epoch+1, num_epochs))\n",
    "  # Training set\n",
    "  model.train()\n",
    "  total_tr, correct_tr = 0, 0\n",
    "  total_val, correct_val = 0, 0\n",
    "  mean_train_loss = 0.0\n",
    "  mean_valid_loss = 0.0\n",
    "  mean_train_acc = 0.0\n",
    "  mean_valid_acc = 0.0\n",
    "  \n",
    "  output_clear = []\n",
    "  output_ambig = []\n",
    "  misclass = []\n",
    "  for i, (images, labels) in enumerate(tqdm(train_loader, position=0)):\n",
    "    \n",
    "    labels = torch.max(labels, 1)[1]\n",
    "    images, labels = images.to(device), labels.long().to(device)\n",
    "    optimizer.zero_grad()\n",
    "   \n",
    "\n",
    "    # Forward\n",
    "    outputs = model(images)\n",
    "    \n",
    "    # Check if classifications are close (ambiguous) or far apart (clear)\n",
    "    for j in range(outputs.shape[0]):\n",
    "      outputs_cpu = outputs.cpu().detach().numpy()\n",
    "      if abs(outputs_cpu[j,1]-outputs_cpu[j,0] > 0.4):\n",
    "        output_clear.append(images[j].cpu().numpy())\n",
    "      if abs(outputs_cpu[j,1]-outputs_cpu[j,0] < 0.1):\n",
    "        output_ambig.append(images[j].cpu().numpy())\n",
    "        \n",
    "       \n",
    "    loss = criterion(outputs, labels) \n",
    "    \n",
    "\n",
    "\n",
    "\n",
    "# try this implementation\n",
    "    lambda1 = 0.5\n",
    "    lambda2 = 2.75\n",
    "    l1_regularization, l2_regularization = torch.tensor(0), torch.tensor(0)\n",
    "#     for param in model.parameters():\n",
    "#       l1_regularization += torch.norm(param, 1).long()\n",
    "#       l2_regularization += torch.norm(param, 2).long()\n",
    "#     loss = criterion(outputs, labels) + lambda2 * l2_regularization\n",
    "    mean_train_loss += loss\n",
    "  \n",
    "    # Backward\n",
    "    loss.backward()\n",
    "    optimizer.step()\n",
    "    \n",
    "#     modify learning rate, if desired\n",
    "#     if epoch%200 == 0:\n",
    "#       learning_rate = learning_rate/5\n",
    "#       optimizer = torch.optim.SGD(model.parameters(), lr=learning_rate)\n",
    "    \n",
    "    # Track loss and accuracy\n",
    "    \n",
    "    total_tr += labels.size(0)\n",
    "    _, predicted_tr = torch.max(outputs.data, 1)\n",
    "    correct_tr += (predicted_tr == labels).sum().item()\n",
    "    incorrect_tr = (predicted_tr != labels).cpu().detach().numpy()\n",
    "    \n",
    "    # Keep track of wrongly classified items\n",
    "    for k in range(outputs.shape[0]):\n",
    "      if incorrect_tr[k] == 1: # If misclassified\n",
    "        misclass.append(images[k].cpu().numpy())\n",
    "    acc_tr = correct_tr/total_tr\n",
    "    mean_train_acc += acc_tr\n",
    "\n",
    "  \n",
    "  mean_train_loss /= i+1\n",
    "  mean_train_acc /= i+1\n",
    "  pred_total = 0\n",
    "  labels_total = 0\n",
    "  \n",
    "  # Validation set\n",
    "  model.eval()\n",
    "  for i, (images, labels) in enumerate(valid_loader):\n",
    "\n",
    "    labels = torch.max(labels, 1)[1]\n",
    "    images, labels = images.to(device), labels.long().to(device)\n",
    "    valid_outputs = model(images)\n",
    "    valid_loss = criterion(valid_outputs, labels)\n",
    "    mean_valid_loss += valid_loss\n",
    "    \n",
    "    total_val += labels.size(0)\n",
    "    _, predicted_val = torch.max(valid_outputs.data, 1)\n",
    "    correct_val += (predicted_val == labels).sum().item()\n",
    "    valid_acc = correct_val/total_val\n",
    "    mean_valid_acc += valid_acc\n",
    "  mean_valid_loss /= i+1\n",
    "  mean_valid_acc /= i+1\n",
    "  \n",
    "  \n",
    "  \n",
    "  train_losses.append(mean_train_loss.item())\n",
    "  train_accuracies.append(mean_train_acc)\n",
    "  valid_losses.append(mean_valid_loss.item())\n",
    "  valid_accuracies.append(mean_valid_acc)\n",
    "  # Mod this when num epochs is too big\n",
    "  print('\\ntrain_loss: {}, train_acc: {}, valid_loss: {}, valid_acc: {}'.format(\n",
    "      mean_train_loss.item(), mean_train_acc*100, mean_valid_loss.item(), mean_valid_acc*100))\n",
    "  \n"
   ]
  },
  {
   "cell_type": "markdown",
   "metadata": {
    "colab_type": "text",
    "id": "C4TNzXVJkuoW"
   },
   "source": [
    "# In order to plot the images, we will use the following code. Please note that the loops will take a while to run."
   ]
  },
  {
   "cell_type": "code",
   "execution_count": 0,
   "metadata": {
    "colab": {
     "base_uri": "https://localhost:8080/",
     "height": 52
    },
    "colab_type": "code",
    "id": "jDVfs-aQcPYx",
    "outputId": "3e311a81-58af-4554-b859-f420f81c2fe8"
   },
   "outputs": [
    {
     "name": "stdout",
     "output_type": "stream",
     "text": [
      "We have 4437  samples that were misclassified and were ambiguous\n",
      "We have 0  samples that were clearly misclassified\n"
     ]
    }
   ],
   "source": [
    "\n",
    "output_ambig = np.array(output_ambig)\n",
    "output_clear = np.array(output_clear)\n",
    "misclass = np.array(misclass)\n",
    "\n",
    "# This is inefficient, but works!\n",
    "ambig_and_wrong, clear_and_wrong = [], []\n",
    "for item in misclass:\n",
    "  if item in output_ambig:\n",
    "    ambig_and_wrong.append(item)\n",
    "  elif item in output_clear:\n",
    "    clear_and_wrong.append(item)\n",
    "    \n",
    "print('We have',len(ambig_and_wrong),' samples that were misclassified and were ambiguous')\n",
    "print('We have', len(clear_and_wrong),' samples that were clearly misclassified')\n"
   ]
  },
  {
   "cell_type": "markdown",
   "metadata": {
    "colab_type": "text",
    "id": "JJuFFP3plE-2"
   },
   "source": [
    "# We can plot the images below. Please note that only some images were chosen for the report"
   ]
  },
  {
   "cell_type": "code",
   "execution_count": 0,
   "metadata": {
    "colab": {
     "base_uri": "https://localhost:8080/",
     "height": 129
    },
    "colab_type": "code",
    "id": "-cddTK7zpXx6",
    "outputId": "8dba828c-d44b-4bf5-cdaf-cc2ae2dea633"
   },
   "outputs": [
    {
     "data": {
      "image/png": "[encoded data removed]",
      "text/plain": [
       "<Figure size 576x576 with 5 Axes>"
      ]
     },
     "metadata": {
      "tags": []
     },
     "output_type": "display_data"
    }
   ],
   "source": [
    "\n",
    "w=20\n",
    "h=20\n",
    "fig=plt.figure(figsize=(8, 8))\n",
    "columns = 5\n",
    "rows = 1\n",
    "for i in range(5):\n",
    "  img = np.transpose(ambig_and_wrong[i])\n",
    "  fig.add_subplot(rows, columns, i + 1)\n",
    "  plt.imshow(img)\n",
    "plt.show()\n"
   ]
  },
  {
   "cell_type": "markdown",
   "metadata": {
    "colab_type": "text",
    "id": "QpR7HgcxlOKM"
   },
   "source": [
    "# We can also plot the kernels too, although interpretation is more difficult"
   ]
  },
  {
   "cell_type": "code",
   "execution_count": 0,
   "metadata": {
    "colab": {
     "base_uri": "https://localhost:8080/",
     "height": 395
    },
    "colab_type": "code",
    "id": "y9IrVFLi0ru3",
    "outputId": "9b1b9ea1-d991-4e3c-b66e-9c7052d6516a"
   },
   "outputs": [
    {
     "data": {
      "image/png": "[encoded data removed]",
      "text/plain": [
       "<Figure size 576x576 with 40 Axes>"
      ]
     },
     "metadata": {
      "tags": []
     },
     "output_type": "display_data"
    }
   ],
   "source": [
    "# we can plot the kernels too\n",
    "\n",
    "def plot_kernels():\n",
    "  w = 12\n",
    "  h = 12\n",
    "  fig=plt.figure(figsize=(8, 8))\n",
    "  columns = 8\n",
    "  rows = 6\n",
    "  weight_cpu = model.conv2.weight.data.cpu()\n",
    "  weight_np = weight_cpu.detach().numpy()\n",
    "  for i in range(40):\n",
    "    img = weight_np[i,0,:,:]\n",
    "    fig.add_subplot(rows, columns, i + 1)\n",
    "    plt.imshow(img, cmap = 'Blues')\n",
    "  plt.show()\n",
    "\n",
    "plot_kernels()\n"
   ]
  },
  {
   "cell_type": "markdown",
   "metadata": {
    "colab_type": "text",
    "id": "qrd0RnSWlcds"
   },
   "source": [
    "# Finally, we can plot the learning curves for our training and validation run"
   ]
  },
  {
   "cell_type": "code",
   "execution_count": 0,
   "metadata": {
    "colab": {
     "base_uri": "https://localhost:8080/",
     "height": 572
    },
    "colab_type": "code",
    "id": "QjjHBd9mpzA8",
    "outputId": "d6910b30-5f3d-4fed-f987-132febb7a4a9"
   },
   "outputs": [
    {
     "data": {
      "image/png": "[encoded data removed]",
      "text/plain": [
       "<Figure size 432x288 with 1 Axes>"
      ]
     },
     "metadata": {
      "tags": []
     },
     "output_type": "display_data"
    },
    {
     "data": {
      "image/png": "[encoded data removed]",
      "text/plain": [
       "<Figure size 432x288 with 1 Axes>"
      ]
     },
     "metadata": {
      "tags": []
     },
     "output_type": "display_data"
    }
   ],
   "source": [
    "%matplotlib inline\n",
    "import matplotlib.pyplot as plt\n",
    "\n",
    "plt.title('CNN Learning Curves - Loss')\n",
    "plt.plot(range(num_epochs), train_losses, color='blue', label='Training loss')\n",
    "plt.plot(range(num_epochs), valid_losses, color='red', label='Validation loss')\n",
    "plt.xlabel('Number of epochs')\n",
    "plt.ylabel('Loss')\n",
    "plt.legend()\n",
    "plt.show()\n",
    "\n",
    "plt.title('CNN Learning Curves - Accuracy')\n",
    "plt.plot(range(num_epochs), train_accuracies, color='blue', label='Training accuracy')\n",
    "plt.plot(range(num_epochs), valid_accuracies, color='red', label='Validation accuracy')\n",
    "plt.xlabel('Number of epochs')\n",
    "plt.ylabel('Accuracy')\n",
    "plt.legend()\n",
    "plt.show()"
   ]
  },
  {
   "cell_type": "markdown",
   "metadata": {
    "colab_type": "text",
    "id": "X0erlIWpu4ZS"
   },
   "source": [
    "## CNN Testing\n",
    "\n",
    "Now we evaluate the test performance of our CNN."
   ]
  },
  {
   "cell_type": "code",
   "execution_count": 0,
   "metadata": {
    "colab": {
     "base_uri": "https://localhost:8080/",
     "height": 303
    },
    "colab_type": "code",
    "id": "HIyRo62Mv71d",
    "outputId": "848abeb1-bde5-44f7-bdc0-3888dd3b2404"
   },
   "outputs": [
    {
     "name": "stdout",
     "output_type": "stream",
     "text": [
      "Beginning testing\n",
      "4999\n"
     ]
    },
    {
     "data": {
      "image/png": "[encoded data removed]",
      "text/plain": [
       "<Figure size 432x288 with 1 Axes>"
      ]
     },
     "metadata": {
      "tags": []
     },
     "output_type": "display_data"
    }
   ],
   "source": [
    "# define the transforms and dataloaders for the test set\n",
    "transform = transforms.Compose([\n",
    "    transforms.ToPILImage(),\n",
    "    transforms.ToTensor()\n",
    "])\n",
    "\n",
    "test_sampler = SequentialSampler(np.arange(len(testIDS)))\n",
    "\n",
    "test_loader = torch.utils.data.DataLoader(test_dataset,\n",
    "                                         batch_size=batch_size,\n",
    "                                         sampler=test_sampler)\n",
    "\n",
    "# Test the model\n",
    "model.eval()\n",
    "with torch.no_grad():\n",
    "  count = 1\n",
    "  for images in test_loader: \n",
    " \n",
    "    just_image = images[0,:,:,:]\n",
    "    a = np.transpose(just_image)\n",
    "    plt.imshow(a)\n",
    "    \n",
    "    \n",
    "    images = images.to(device)\n",
    "    outputs = model(images)\n",
    "    \n",
    "#     convert and stack outputs\n",
    "    outputs_cpu = outputs.cpu()\n",
    "    temp = outputs_cpu.detach().numpy()\n",
    "    if count == 1:\n",
    "      test_out = temp\n",
    "    else:\n",
    "      test_out = np.vstack((test_out, temp))  \n",
    "\n",
    "    count += 1\n",
    "print('Beginning testing')\n",
    "print(len(test_out))"
   ]
  },
  {
   "cell_type": "code",
   "execution_count": 0,
   "metadata": {
    "colab": {},
    "colab_type": "code",
    "id": "olSBtE-9tDPO"
   },
   "outputs": [],
   "source": [
    "# pickle and save results to submit for kaggle\n",
    "\n",
    "import pandas as pd\n",
    "import numpy as np\n",
    "import pickle\n",
    "import os\n",
    "import csv\n",
    "\n",
    "currPath = os.getcwd()\n",
    "prediction = []\n",
    "# convert softmax to cat/dog\n",
    "for i in range(len(test_out)):\n",
    "  if test_out[i, 0] > test_out[i, 1]:\n",
    "    prediction.append('Cat')\n",
    "  else:\n",
    "    prediction.append('Dog')\n",
    "\n",
    "    \n",
    "    \n",
    "  \n",
    "# build csv and submit\n",
    "with open(PATH +'test_predicted.csv', 'w') as csvfile:\n",
    "    # defined by the sample csv\n",
    "    fieldnames = ['Id', 'label']\n",
    "    writer = csv.DictWriter(csvfile, fieldnames=fieldnames)\n",
    "    writer.writeheader()\n",
    "    for i in range(len(prediction)):\n",
    "      writer.writerow({'Id': testIDS[i], 'label':prediction[i]})\n",
    "\n",
    "      "
   ]
  }
 ],
 "metadata": {
  "accelerator": "GPU",
  "colab": {
   "collapsed_sections": [],
   "name": "HW1 Q3.ipynb",
   "provenance": [],
   "version": "0.3.2"
  },
  "kernelspec": {
   "display_name": "Python 3",
   "language": "python",
   "name": "python3"
  },
  "language_info": {
   "codemirror_mode": {
    "name": "ipython",
    "version": 3
   },
   "file_extension": ".py",
   "mimetype": "text/x-python",
   "name": "python",
   "nbconvert_exporter": "python",
   "pygments_lexer": "ipython3",
   "version": "3.6.7"
  }
 },
 "nbformat": 4,
 "nbformat_minor": 1
}
