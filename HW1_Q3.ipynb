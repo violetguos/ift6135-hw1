{
  "nbformat": 4,
  "nbformat_minor": 0,
  "metadata": {
    "colab": {
      "name": "HW1 Q3.ipynb",
      "version": "0.3.2",
      "provenance": [],
      "collapsed_sections": []
    },
    "kernelspec": {
      "name": "python3",
      "display_name": "Python 3"
    },
    "accelerator": "GPU"
  },
  "cells": [
    {
      "metadata": {
        "id": "zRgL6awldmL6",
        "colab_type": "text"
      },
      "cell_type": "markdown",
      "source": [
        "# HW1 Q3 - Convolutional Neural Networks\n",
        "\n",
        "In this question, we set up a CNN in order to perform the 'Cats vs Dogs' Kaggle challenge\n",
        "\n",
        "First, we import some PyTorch libraries and direct them to use Google Colab's GPU:"
      ]
    },
    {
      "metadata": {
        "id": "LA4Mnb_Y4lpN",
        "colab_type": "code",
        "colab": {}
      },
      "cell_type": "code",
      "source": [
        "import torch\n",
        "import torch.nn as nn\n",
        "import torch.nn.functional as F\n",
        "import torch.utils.data\n",
        "import torchvision\n",
        "import torchvision.transforms as transforms\n",
        "from torch.utils.data import DataLoader, Sampler, Dataset\n",
        "from torchvision import datasets\n",
        "from torch.utils.data.sampler import SubsetRandomSampler, SequentialSampler\n",
        "from torch.autograd import Variable\n",
        "\n",
        "import os\n",
        "import numpy as np\n",
        "import PIL.Image\n",
        "import glob\n",
        "import matplotlib.pyplot as plt\n"
      ],
      "execution_count": 0,
      "outputs": []
    },
    {
      "metadata": {
        "id": "LXXUMCDPbFXv",
        "colab_type": "code",
        "colab": {}
      },
      "cell_type": "code",
      "source": [
        "# Use the GPU\n",
        "device = torch.device('cuda')"
      ],
      "execution_count": 0,
      "outputs": []
    },
    {
      "metadata": {
        "id": "5SSjnKsIeG7T",
        "colab_type": "text"
      },
      "cell_type": "markdown",
      "source": [
        "In order to import the data for Kaggle from Google Drive, we need to jump through a few hoops, as seen below"
      ]
    },
    {
      "metadata": {
        "id": "R8vCUTqTqZ8Z",
        "colab_type": "code",
        "outputId": "2c33a3a5-48c0-4fff-f27d-0c7e287dc3f9",
        "colab": {
          "base_uri": "https://localhost:8080/",
          "height": 124
        }
      },
      "cell_type": "code",
      "source": [
        "# Import the data\n",
        "\n",
        "from google.colab import drive\n",
        "\n",
        "drive.mount('/content/drive/')"
      ],
      "execution_count": 0,
      "outputs": [
        {
          "output_type": "stream",
          "text": [
            "Go to this URL in a browser: https://accounts.google.com/o/oauth2/auth?client_id=947318989803-6bn6qk8qdgf4n4g3pfee6491hc0brc4i.apps.googleusercontent.com&redirect_uri=urn%3Aietf%3Awg%3Aoauth%3A2.0%3Aoob&scope=email%20https%3A%2F%2Fwww.googleapis.com%2Fauth%2Fdocs.test%20https%3A%2F%2Fwww.googleapis.com%2Fauth%2Fdrive%20https%3A%2F%2Fwww.googleapis.com%2Fauth%2Fdrive.photos.readonly%20https%3A%2F%2Fwww.googleapis.com%2Fauth%2Fpeopleapi.readonly&response_type=code\n",
            "\n",
            "Enter your authorization code:\n",
            "··········\n",
            "Mounted at /content/drive/\n"
          ],
          "name": "stdout"
        }
      ]
    },
    {
      "metadata": {
        "id": "dGu7W0jQzV39",
        "colab_type": "code",
        "colab": {}
      },
      "cell_type": "code",
      "source": [
        "PATH = '/content/drive/My Drive/DL_A1/'\n",
        "\n",
        "\n",
        "# apply several different transforms, as necessary\n",
        "rotate = [-90, 90]\n",
        "transform = transforms.Compose([\n",
        "    transforms.ToPILImage(),\n",
        "    transforms.RandomRotation(rotate),\n",
        "    transforms.RandomHorizontalFlip(p=0.25),\n",
        "    transforms.RandomResizedCrop(64, scale=(0.75, 1.0)),\n",
        "    transforms.ToTensor()\n",
        "])\n",
        "\n",
        "# for the hyperparameter tunning, no transforms were applied\n",
        "\n",
        "# transform = transforms.Compose([\n",
        "#     transforms.ToPILImage(),\n",
        "#     transforms.ToTensor()\n",
        "# ])\n",
        "\n",
        "# load the data, which was downloaded and saved \n",
        "Data = np.load(PATH +'data.npz')\n",
        "\n"
      ],
      "execution_count": 0,
      "outputs": []
    },
    {
      "metadata": {
        "id": "w0JD6oyi6oaW",
        "colab_type": "code",
        "colab": {}
      },
      "cell_type": "code",
      "source": [
        "\n",
        "# we define the dataset class for the train, valid and test data\n",
        "class dataset(Dataset):\n",
        "  def __init__(self, X, Y, transform=None):\n",
        "    self.X = X\n",
        "    self.Y = Y\n",
        "    self.transform = transform\n",
        "  \n",
        "  def __len__(self):\n",
        "    return self.X.shape[0]\n",
        "  \n",
        "  def __getitem__(self, index):\n",
        "    #temp = self.transform(self.X[index,:])\n",
        "    #return temp, self.Y[index]\\\n",
        "    sequence, target = self.X[index], self.Y[index]\n",
        "    if self.transform is not None:\n",
        "      sequence = self.transform(sequence)\n",
        "    if target is None:\n",
        "      return sequence\n",
        "    return sequence, target\n",
        "\n"
      ],
      "execution_count": 0,
      "outputs": []
    },
    {
      "metadata": {
        "id": "8HsNMg6U9nA2",
        "colab_type": "code",
        "colab": {}
      },
      "cell_type": "code",
      "source": [
        "# define the labels and datasets\n",
        "\n",
        "test_labels = [None]*Data['Xte'].shape[0]\n",
        "train_dataset = dataset(Data['Xtr'], Data['y'], transform)\n",
        "test_dataset = dataset(Data['Xte'], test_labels, transform)\n",
        "testIDS_list = np.hsplit(Data['testIds'], 1)\n",
        "testIDS = testIDS_list[0]"
      ],
      "execution_count": 0,
      "outputs": []
    },
    {
      "metadata": {
        "id": "jb6ePB5nJJD5",
        "colab_type": "code",
        "colab": {}
      },
      "cell_type": "code",
      "source": [
        "# we will define this information now \n",
        "batch_size = 64\n",
        "learning_rate = 0.005\n",
        "num_epochs = 150\n",
        "\n",
        "num_classes = 2\n",
        "num_of_workers = 4"
      ],
      "execution_count": 0,
      "outputs": []
    },
    {
      "metadata": {
        "id": "p5IBw3cseSyb",
        "colab_type": "text"
      },
      "cell_type": "markdown",
      "source": [
        "To split the training data into a training and validation set, we need to establish a `sampler` for each that will pull out certain samples when called from the dataloader. In our case, we have a 20% validation split, with 16000 training examples and 4000 validation examples."
      ]
    },
    {
      "metadata": {
        "id": "sIi-Q-bPu1Xn",
        "colab_type": "code",
        "colab": {}
      },
      "cell_type": "code",
      "source": [
        "# Define a shuffled train and valid index list (non-overlapping)\n",
        "\n",
        "a = np.arange(19998)\n",
        "np.random.shuffle(a)\n",
        "\n",
        "num_train_samples = 16000\n",
        "num_valid_samples = 19998 - num_train_samples\n",
        "\n",
        "train_index = a[:num_train_samples]\n",
        "valid_index = a[num_train_samples:\n",
        "                num_train_samples+num_valid_samples]\n"
      ],
      "execution_count": 0,
      "outputs": []
    },
    {
      "metadata": {
        "id": "Ci7BGbTQ7uX9",
        "colab_type": "code",
        "colab": {}
      },
      "cell_type": "code",
      "source": [
        "\n",
        "# Fix seed\n",
        "np.random.seed(42)\n",
        "torch.manual_seed(42)\n",
        "\n",
        "# Define samplers for the data (to get validation split)\n",
        "\n",
        "train_sampler = SubsetRandomSampler(train_index)\n",
        "\n",
        "valid_sampler = SubsetRandomSampler(valid_index)\n",
        "\n",
        "\n"
      ],
      "execution_count": 0,
      "outputs": []
    },
    {
      "metadata": {
        "id": "MyWMN63ge3HO",
        "colab_type": "text"
      },
      "cell_type": "markdown",
      "source": [
        "As a last step before training, we define training, validation, and test dataloaders that sample from the above `sampler`s according to the defined batch size:"
      ]
    },
    {
      "metadata": {
        "id": "PXgZ-GV8CQeT",
        "colab_type": "code",
        "colab": {}
      },
      "cell_type": "code",
      "source": [
        "\n",
        "# Get dataloaders for train/valid/test\n",
        "train_loader = torch.utils.data.DataLoader(train_dataset,\n",
        "                                          batch_size=batch_size,\n",
        "                                          sampler=train_sampler)\n",
        "\n",
        "valid_loader = torch.utils.data.DataLoader(train_dataset,\n",
        "                                          batch_size=batch_size,\n",
        "                                          sampler=valid_sampler)\n"
      ],
      "execution_count": 0,
      "outputs": []
    },
    {
      "metadata": {
        "id": "iZwa2g46e_z2",
        "colab_type": "text"
      },
      "cell_type": "markdown",
      "source": [
        "## CNN architecture definition\n",
        "\n",
        "Now we define the class for our CNN."
      ]
    },
    {
      "metadata": {
        "id": "bQr705BWbHsL",
        "colab_type": "code",
        "colab": {}
      },
      "cell_type": "code",
      "source": [
        "# this is just a function to help with input/output size\n",
        "def output_size(input_size, kernel_size, stride, padding):\n",
        "    '''\n",
        "    Helper function to determine output size of a convolution/pooling.\n",
        "    '''\n",
        "    output = int((input_size - kernel_size + 2*(padding)) / stride) + 1\n",
        "    return output"
      ],
      "execution_count": 0,
      "outputs": []
    },
    {
      "metadata": {
        "id": "Uef7ZWWc4WNI",
        "colab_type": "code",
        "colab": {}
      },
      "cell_type": "code",
      "source": [
        "\n",
        "# hyperparameter tunning \n",
        "# Define the CNN class\n",
        "\n",
        "class CNN(nn.Module):\n",
        "  def __init__(self):\n",
        "    super(CNN, self).__init__()\n",
        "    self.conv1 = nn.Conv2d(3, 40, kernel_size=3, stride=1, padding=1)\n",
        "    self.pool1 = nn.MaxPool2d(kernel_size=2, stride=2, padding=0)\n",
        "    \n",
        "    self.conv2 = nn.Conv2d(40, 40, kernel_size=3, stride=1, padding=1)\n",
        "    self.pool2 = nn.MaxPool2d(kernel_size=2, stride=2, padding=0)\n",
        "    \n",
        "    self.fc1 = nn.Linear(10240, 175)\n",
        "    self.fc2 = nn.Linear(175, 2)\n",
        "   \n",
        "  def forward(self, x):\n",
        "    x = self.conv1(x)\n",
        "    x = F.relu(x)\n",
        "    x = self.pool1(x)\n",
        "    x = F.relu(self.conv2(x))\n",
        "    x = self.pool2(x)\n",
        "    x = x.view(len(x), 10240)\n",
        "    x = self.fc1(x)\n",
        "    x = F.relu(x)\n",
        "    x = self.fc2(x)\n",
        "#     x = F.softmax(x)\n",
        "\n",
        "    return x\n",
        "  \n",
        "\n",
        "    "
      ],
      "execution_count": 0,
      "outputs": []
    },
    {
      "metadata": {
        "id": "G67AfTj0foDN",
        "colab_type": "text"
      },
      "cell_type": "markdown",
      "source": [
        "This CNN has two convolutional layers, each with a ReLU activation, a kernel size of 3, a stride of 1, and a padding level of 1. The first convolutional layer learns 18 feature maps and the second learns 64 feature maps. Both convolutional layers use max pooling after their operation, with a kernel size of 2 and stride of 2.\n",
        "During hyperparameter tuning, these values were modified\n",
        "\n",
        "Finally, the data will pass through two fully connected layers and output to 2 units representing either a 'Cat' or a 'Dog'.\n",
        "\n",
        "Below, we see an outline of this architecture. Note that the total number of trainable parameters is around 1.8 million per sample\n"
      ]
    },
    {
      "metadata": {
        "id": "2_4sUFuSNudx",
        "colab_type": "code",
        "outputId": "bd7c7770-e45c-4687-e356-bfcb7df0083a",
        "colab": {
          "base_uri": "https://localhost:8080/",
          "height": 173
        }
      },
      "cell_type": "code",
      "source": [
        "model = CNN().to(device)\n",
        "print(model)\n",
        "\n",
        "model_parameters = filter(lambda p: p.requires_grad, model.parameters())\n",
        "params = sum([np.prod(p.size()) for p in model_parameters])\n",
        "print('Number of parameters: {}'.format(params))"
      ],
      "execution_count": 0,
      "outputs": [
        {
          "output_type": "stream",
          "text": [
            "CNN(\n",
            "  (conv1): Conv2d(3, 40, kernel_size=(3, 3), stride=(1, 1), padding=(1, 1))\n",
            "  (pool1): MaxPool2d(kernel_size=2, stride=2, padding=0, dilation=1, ceil_mode=False)\n",
            "  (conv2): Conv2d(40, 40, kernel_size=(3, 3), stride=(1, 1), padding=(1, 1))\n",
            "  (pool2): MaxPool2d(kernel_size=2, stride=2, padding=0, dilation=1, ceil_mode=False)\n",
            "  (fc1): Linear(in_features=10240, out_features=175, bias=True)\n",
            "  (fc2): Linear(in_features=175, out_features=2, bias=True)\n",
            ")\n",
            "Number of parameters: 1808087\n"
          ],
          "name": "stdout"
        }
      ]
    },
    {
      "metadata": {
        "id": "01Wu0sKrkLwh",
        "colab_type": "text"
      },
      "cell_type": "markdown",
      "source": [
        "## CNN training\n",
        "\n",
        "Now we will define our loss function and stochastic gradient descent optimizer, and run over the training loop for our CNN."
      ]
    },
    {
      "metadata": {
        "id": "JOnTFQAjfpCB",
        "colab_type": "code",
        "colab": {}
      },
      "cell_type": "code",
      "source": [
        "# Define loss and optimizer\n",
        "\n",
        "# depending on the method, either NLL or cross entropy loss was used (the latter includes a softmax)\n",
        "# the former allows for easy visualization of the data\n",
        "criterion = nn.CrossEntropyLoss()\n",
        "# criterion = nn.NLLLoss()\n",
        "optimizer = torch.optim.SGD(model.parameters(), lr=learning_rate)\n"
      ],
      "execution_count": 0,
      "outputs": []
    },
    {
      "metadata": {
        "id": "R0wrXUF9pcDw",
        "colab_type": "text"
      },
      "cell_type": "markdown",
      "source": [
        "# Below is the training and validation loop - it is important to note that, due to random initialization, it can be difficult to reproduce results, and certain runs might converge faster or slower than others. As a reuslt, it might be necessary to run a model several times in order to obtain results seen in the report"
      ]
    },
    {
      "metadata": {
        "id": "Ts3HzSjIOnu6",
        "colab_type": "code",
        "outputId": "32bcbd77-e0b2-4826-bebe-09ea4bce6a38",
        "colab": {
          "base_uri": "https://localhost:8080/",
          "height": 998
        }
      },
      "cell_type": "code",
      "source": [
        "# Make a nice progress bar - tqdm on colab is a bit buggy though\n",
        "from tqdm import tqdm\n",
        "best_val_acc = 0\n",
        "# Train\n",
        "print('\\nBeginning training.')\n",
        "total_step = len(train_loader)\n",
        "train_losses, train_accuracies = [], []\n",
        "valid_losses, valid_accuracies = [], []\n",
        "\n",
        "for epoch in range(num_epochs):\n",
        "  print('Epoch {}/{}'.format(epoch+1, num_epochs))\n",
        "  # Training set\n",
        "  model.train()\n",
        "  total_tr, correct_tr = 0, 0\n",
        "  total_val, correct_val = 0, 0\n",
        "  mean_train_loss = 0.0\n",
        "  mean_valid_loss = 0.0\n",
        "  mean_train_acc = 0.0\n",
        "  mean_valid_acc = 0.0\n",
        "  \n",
        "  output_clear = []\n",
        "  output_ambig = []\n",
        "  misclass = []\n",
        "  for i, (images, labels) in enumerate(tqdm(train_loader, position=0)):\n",
        "    \n",
        "    labels = torch.max(labels, 1)[1]\n",
        "    images, labels = images.to(device), labels.long().to(device)\n",
        "    optimizer.zero_grad()\n",
        "   \n",
        "\n",
        "    # Forward\n",
        "    outputs = model(images)\n",
        "    \n",
        "    # Check if classifications are close (ambiguous) or far apart (clear)\n",
        "    for j in range(outputs.shape[0]):\n",
        "      outputs_cpu = outputs.cpu().detach().numpy()\n",
        "      if abs(outputs_cpu[j,1]-outputs_cpu[j,0] > 0.4):\n",
        "        output_clear.append(images[j].cpu().numpy())\n",
        "      if abs(outputs_cpu[j,1]-outputs_cpu[j,0] < 0.1):\n",
        "        output_ambig.append(images[j].cpu().numpy())\n",
        "        \n",
        "       \n",
        "    loss = criterion(outputs, labels) \n",
        "    \n",
        "\n",
        "\n",
        "\n",
        "# try this implementation\n",
        "    lambda1 = 0.5\n",
        "    lambda2 = 2.75\n",
        "    l1_regularization, l2_regularization = torch.tensor(0), torch.tensor(0)\n",
        "#     for param in model.parameters():\n",
        "#       l1_regularization += torch.norm(param, 1).long()\n",
        "#       l2_regularization += torch.norm(param, 2).long()\n",
        "#     loss = criterion(outputs, labels) + lambda2 * l2_regularization\n",
        "    mean_train_loss += loss\n",
        "  \n",
        "    # Backward\n",
        "    loss.backward()\n",
        "    optimizer.step()\n",
        "    \n",
        "#     modify learning rate, if desired\n",
        "#     if epoch%200 == 0:\n",
        "#       learning_rate = learning_rate/5\n",
        "#       optimizer = torch.optim.SGD(model.parameters(), lr=learning_rate)\n",
        "    \n",
        "    # Track loss and accuracy\n",
        "    \n",
        "    total_tr += labels.size(0)\n",
        "    _, predicted_tr = torch.max(outputs.data, 1)\n",
        "    correct_tr += (predicted_tr == labels).sum().item()\n",
        "    incorrect_tr = (predicted_tr != labels).cpu().detach().numpy()\n",
        "    \n",
        "    # Keep track of wrongly classified items\n",
        "    for k in range(outputs.shape[0]):\n",
        "      if incorrect_tr[k] == 1: # If misclassified\n",
        "        misclass.append(images[k].cpu().numpy())\n",
        "    acc_tr = correct_tr/total_tr\n",
        "    mean_train_acc += acc_tr\n",
        "\n",
        "  \n",
        "  mean_train_loss /= i+1\n",
        "  mean_train_acc /= i+1\n",
        "  pred_total = 0\n",
        "  labels_total = 0\n",
        "  \n",
        "  # Validation set\n",
        "  model.eval()\n",
        "  for i, (images, labels) in enumerate(valid_loader):\n",
        "\n",
        "    labels = torch.max(labels, 1)[1]\n",
        "    images, labels = images.to(device), labels.long().to(device)\n",
        "    valid_outputs = model(images)\n",
        "    valid_loss = criterion(valid_outputs, labels)\n",
        "    mean_valid_loss += valid_loss\n",
        "    \n",
        "    total_val += labels.size(0)\n",
        "    _, predicted_val = torch.max(valid_outputs.data, 1)\n",
        "    correct_val += (predicted_val == labels).sum().item()\n",
        "    valid_acc = correct_val/total_val\n",
        "    mean_valid_acc += valid_acc\n",
        "  mean_valid_loss /= i+1\n",
        "  mean_valid_acc /= i+1\n",
        "  \n",
        "  \n",
        "  \n",
        "  train_losses.append(mean_train_loss.item())\n",
        "  train_accuracies.append(mean_train_acc)\n",
        "  valid_losses.append(mean_valid_loss.item())\n",
        "  valid_accuracies.append(mean_valid_acc)\n",
        "  # Mod this when num epochs is too big\n",
        "  print('\\ntrain_loss: {}, train_acc: {}, valid_loss: {}, valid_acc: {}'.format(\n",
        "      mean_train_loss.item(), mean_train_acc*100, mean_valid_loss.item(), mean_valid_acc*100))\n",
        "  \n"
      ],
      "execution_count": 0,
      "outputs": [
        {
          "output_type": "stream",
          "text": [
            "\r  0%|          | 0/250 [00:00<?, ?it/s]"
          ],
          "name": "stderr"
        },
        {
          "output_type": "stream",
          "text": [
            "\n",
            "Beginning training.\n",
            "Epoch 1/150\n"
          ],
          "name": "stdout"
        },
        {
          "output_type": "stream",
          "text": [
            "100%|██████████| 250/250 [00:17<00:00, 14.22it/s]\n"
          ],
          "name": "stderr"
        },
        {
          "output_type": "stream",
          "text": [
            "\n",
            "train_loss: 0.6929819583892822, train_acc: 49.72084538378913, valid_loss: 0.6921926140785217, valid_acc: 57.117153450918245\n",
            "Epoch 2/150\n"
          ],
          "name": "stdout"
        },
        {
          "output_type": "stream",
          "text": [
            "100%|██████████| 250/250 [00:17<00:00, 14.55it/s]\n"
          ],
          "name": "stderr"
        },
        {
          "output_type": "stream",
          "text": [
            "\n",
            "train_loss: 0.6921353936195374, train_acc: 52.59876953187479, valid_loss: 0.691154420375824, valid_acc: 52.4917319086595\n",
            "Epoch 3/150\n"
          ],
          "name": "stdout"
        },
        {
          "output_type": "stream",
          "text": [
            "100%|██████████| 250/250 [00:17<00:00, 14.38it/s]\n"
          ],
          "name": "stderr"
        },
        {
          "output_type": "stream",
          "text": [
            "\n",
            "train_loss: 0.6914548873901367, train_acc: 54.43658648789052, valid_loss: 0.6907534599304199, valid_acc: 55.89929839372515\n",
            "Epoch 4/150\n"
          ],
          "name": "stdout"
        },
        {
          "output_type": "stream",
          "text": [
            "100%|██████████| 250/250 [00:17<00:00, 14.71it/s]\n",
            "  0%|          | 0/250 [00:00<?, ?it/s]"
          ],
          "name": "stderr"
        },
        {
          "output_type": "stream",
          "text": [
            "\n",
            "train_loss: 0.6905708312988281, train_acc: 54.856947846587126, valid_loss: 0.6902555823326111, valid_acc: 53.46618259140866\n",
            "Epoch 5/150\n"
          ],
          "name": "stdout"
        },
        {
          "output_type": "stream",
          "text": [
            "100%|██████████| 250/250 [00:17<00:00, 14.19it/s]\n"
          ],
          "name": "stderr"
        },
        {
          "output_type": "stream",
          "text": [
            "\n",
            "train_loss: 0.6896244287490845, train_acc: 55.1715324341284, valid_loss: 0.6897340416908264, valid_acc: 52.51923828744407\n",
            "Epoch 6/150\n"
          ],
          "name": "stdout"
        },
        {
          "output_type": "stream",
          "text": [
            "100%|██████████| 250/250 [00:17<00:00, 14.29it/s]\n",
            "  0%|          | 0/250 [00:00<?, ?it/s]"
          ],
          "name": "stderr"
        },
        {
          "output_type": "stream",
          "text": [
            "\n",
            "train_loss: 0.6885411739349365, train_acc: 55.434398174448084, valid_loss: 0.6880851984024048, valid_acc: 55.244815836604374\n",
            "Epoch 7/150\n"
          ],
          "name": "stdout"
        },
        {
          "output_type": "stream",
          "text": [
            "100%|██████████| 250/250 [00:17<00:00, 14.30it/s]\n",
            "  0%|          | 0/250 [00:00<?, ?it/s]"
          ],
          "name": "stderr"
        },
        {
          "output_type": "stream",
          "text": [
            "\n",
            "train_loss: 0.6873008608818054, train_acc: 57.00500528378507, valid_loss: 0.6856411099433899, valid_acc: 57.683034423386815\n",
            "Epoch 8/150\n"
          ],
          "name": "stdout"
        },
        {
          "output_type": "stream",
          "text": [
            "100%|██████████| 250/250 [00:17<00:00, 14.21it/s]\n",
            "  0%|          | 0/250 [00:00<?, ?it/s]"
          ],
          "name": "stderr"
        },
        {
          "output_type": "stream",
          "text": [
            "\n",
            "train_loss: 0.6859132647514343, train_acc: 57.47056194401951, valid_loss: 0.6847419738769531, valid_acc: 54.76018052949874\n",
            "Epoch 9/150\n"
          ],
          "name": "stdout"
        },
        {
          "output_type": "stream",
          "text": [
            "100%|██████████| 250/250 [00:17<00:00, 14.38it/s]\n",
            "  0%|          | 0/250 [00:00<?, ?it/s]"
          ],
          "name": "stderr"
        },
        {
          "output_type": "stream",
          "text": [
            "\n",
            "train_loss: 0.6837262511253357, train_acc: 56.88798342547131, valid_loss: 0.6832066178321838, valid_acc: 56.5187332056551\n",
            "Epoch 10/150\n"
          ],
          "name": "stdout"
        },
        {
          "output_type": "stream",
          "text": [
            "100%|██████████| 250/250 [00:17<00:00, 14.60it/s]\n",
            "  0%|          | 0/250 [00:00<?, ?it/s]"
          ],
          "name": "stderr"
        },
        {
          "output_type": "stream",
          "text": [
            "\n",
            "train_loss: 0.6820378303527832, train_acc: 57.45878078927399, valid_loss: 0.6787055730819702, valid_acc: 59.34967655559753\n",
            "Epoch 11/150\n"
          ],
          "name": "stdout"
        },
        {
          "output_type": "stream",
          "text": [
            " 20%|██        | 50/250 [00:03<00:13, 14.73it/s]"
          ],
          "name": "stderr"
        },
        {
          "output_type": "error",
          "ename": "KeyboardInterrupt",
          "evalue": "ignored",
          "traceback": [
            "\u001b[0;31m---------------------------------------------------------------------------\u001b[0m",
            "\u001b[0;31mKeyboardInterrupt\u001b[0m                         Traceback (most recent call last)",
            "\u001b[0;32m<ipython-input-26-63bddf1c00bb>\u001b[0m in \u001b[0;36m<module>\u001b[0;34m()\u001b[0m\n\u001b[1;32m     68\u001b[0m     \u001b[0mtotal_tr\u001b[0m \u001b[0;34m+=\u001b[0m \u001b[0mlabels\u001b[0m\u001b[0;34m.\u001b[0m\u001b[0msize\u001b[0m\u001b[0;34m(\u001b[0m\u001b[0;36m0\u001b[0m\u001b[0;34m)\u001b[0m\u001b[0;34m\u001b[0m\u001b[0;34m\u001b[0m\u001b[0m\n\u001b[1;32m     69\u001b[0m     \u001b[0m_\u001b[0m\u001b[0;34m,\u001b[0m \u001b[0mpredicted_tr\u001b[0m \u001b[0;34m=\u001b[0m \u001b[0mtorch\u001b[0m\u001b[0;34m.\u001b[0m\u001b[0mmax\u001b[0m\u001b[0;34m(\u001b[0m\u001b[0moutputs\u001b[0m\u001b[0;34m.\u001b[0m\u001b[0mdata\u001b[0m\u001b[0;34m,\u001b[0m \u001b[0;36m1\u001b[0m\u001b[0;34m)\u001b[0m\u001b[0;34m\u001b[0m\u001b[0;34m\u001b[0m\u001b[0m\n\u001b[0;32m---> 70\u001b[0;31m     \u001b[0mcorrect_tr\u001b[0m \u001b[0;34m+=\u001b[0m \u001b[0;34m(\u001b[0m\u001b[0mpredicted_tr\u001b[0m \u001b[0;34m==\u001b[0m \u001b[0mlabels\u001b[0m\u001b[0;34m)\u001b[0m\u001b[0;34m.\u001b[0m\u001b[0msum\u001b[0m\u001b[0;34m(\u001b[0m\u001b[0;34m)\u001b[0m\u001b[0;34m.\u001b[0m\u001b[0mitem\u001b[0m\u001b[0;34m(\u001b[0m\u001b[0;34m)\u001b[0m\u001b[0;34m\u001b[0m\u001b[0;34m\u001b[0m\u001b[0m\n\u001b[0m\u001b[1;32m     71\u001b[0m     \u001b[0mincorrect_tr\u001b[0m \u001b[0;34m=\u001b[0m \u001b[0;34m(\u001b[0m\u001b[0mpredicted_tr\u001b[0m \u001b[0;34m!=\u001b[0m \u001b[0mlabels\u001b[0m\u001b[0;34m)\u001b[0m\u001b[0;34m.\u001b[0m\u001b[0mcpu\u001b[0m\u001b[0;34m(\u001b[0m\u001b[0;34m)\u001b[0m\u001b[0;34m.\u001b[0m\u001b[0mdetach\u001b[0m\u001b[0;34m(\u001b[0m\u001b[0;34m)\u001b[0m\u001b[0;34m.\u001b[0m\u001b[0mnumpy\u001b[0m\u001b[0;34m(\u001b[0m\u001b[0;34m)\u001b[0m\u001b[0;34m\u001b[0m\u001b[0;34m\u001b[0m\u001b[0m\n\u001b[1;32m     72\u001b[0m \u001b[0;34m\u001b[0m\u001b[0m\n",
            "\u001b[0;31mKeyboardInterrupt\u001b[0m: "
          ]
        }
      ]
    },
    {
      "metadata": {
        "id": "C4TNzXVJkuoW",
        "colab_type": "text"
      },
      "cell_type": "markdown",
      "source": [
        "# In order to plot the images, we will use the following code. Please note that the loops will take a while to run."
      ]
    },
    {
      "metadata": {
        "id": "jDVfs-aQcPYx",
        "colab_type": "code",
        "outputId": "7c14ee7d-e12e-491f-d6df-a7a80498b095",
        "colab": {
          "base_uri": "https://localhost:8080/",
          "height": 201
        }
      },
      "cell_type": "code",
      "source": [
        "\n",
        "output_ambig = np.array(output_ambig)\n",
        "output_clear = np.array(output_clear)\n",
        "misclass = np.array(misclass)\n",
        "\n",
        "# This is inefficient, but works!\n",
        "ambig_and_wrong, clear_and_wrong = [], []\n",
        "for item in misclass:\n",
        "  if item in output_ambig:\n",
        "    ambig_and_wrong.append(item)\n",
        "  elif item in output_clear:\n",
        "    clear_and_wrong.append(item)\n",
        "    \n",
        "print('We have',len(ambig_and_wrong),' samples that were misclassified and were ambiguous')\n",
        "print('We have', len(clear_and_wrong),' samples that were clearly misclassified')\n"
      ],
      "execution_count": 0,
      "outputs": [
        {
          "output_type": "error",
          "ename": "NameError",
          "evalue": "ignored",
          "traceback": [
            "\u001b[0;31m---------------------------------------------------------------------------\u001b[0m",
            "\u001b[0;31mNameError\u001b[0m                                 Traceback (most recent call last)",
            "\u001b[0;32m<ipython-input-2-87c9f051dfde>\u001b[0m in \u001b[0;36m<module>\u001b[0;34m()\u001b[0m\n\u001b[0;32m----> 1\u001b[0;31m \u001b[0moutput_ambig\u001b[0m \u001b[0;34m=\u001b[0m \u001b[0mnp\u001b[0m\u001b[0;34m.\u001b[0m\u001b[0marray\u001b[0m\u001b[0;34m(\u001b[0m\u001b[0moutput_ambig\u001b[0m\u001b[0;34m)\u001b[0m\u001b[0;34m\u001b[0m\u001b[0;34m\u001b[0m\u001b[0m\n\u001b[0m\u001b[1;32m      2\u001b[0m \u001b[0moutput_clear\u001b[0m \u001b[0;34m=\u001b[0m \u001b[0mnp\u001b[0m\u001b[0;34m.\u001b[0m\u001b[0marray\u001b[0m\u001b[0;34m(\u001b[0m\u001b[0moutput_clear\u001b[0m\u001b[0;34m)\u001b[0m\u001b[0;34m\u001b[0m\u001b[0;34m\u001b[0m\u001b[0m\n\u001b[1;32m      3\u001b[0m \u001b[0mmisclass\u001b[0m \u001b[0;34m=\u001b[0m \u001b[0mnp\u001b[0m\u001b[0;34m.\u001b[0m\u001b[0marray\u001b[0m\u001b[0;34m(\u001b[0m\u001b[0mmisclass\u001b[0m\u001b[0;34m)\u001b[0m\u001b[0;34m\u001b[0m\u001b[0;34m\u001b[0m\u001b[0m\n",
            "\u001b[0;31mNameError\u001b[0m: name 'output_ambig' is not defined"
          ]
        }
      ]
    },
    {
      "metadata": {
        "id": "JJuFFP3plE-2",
        "colab_type": "text"
      },
      "cell_type": "markdown",
      "source": [
        "# We can plot the images below. Please note that only some images were chosen for the report"
      ]
    },
    {
      "metadata": {
        "id": "-cddTK7zpXx6",
        "colab_type": "code",
        "outputId": "8f62c7cf-73f4-42a6-cd9c-c50fe3c96bdf",
        "colab": {
          "base_uri": "https://localhost:8080/",
          "height": 129
        }
      },
      "cell_type": "code",
      "source": [
        "\n",
        "w=20\n",
        "h=20\n",
        "fig=plt.figure(figsize=(8, 8))\n",
        "columns = 5\n",
        "rows = 1\n",
        "for i in range(5):\n",
        "  img = np.transpose(ambig_and_wrong[i])\n",
        "  fig.add_subplot(rows, columns, i + 1)\n",
        "  plt.imshow(img)\n",
        "plt.show()\n"
      ],
      "execution_count": 0,
      "outputs": [
        {
          "output_type": "display_data",
          "data": {
            "image/png": "[encoded data removed]",
            "text/plain": [
              "<Figure size 576x576 with 5 Axes>"
            ]
          },
          "metadata": {
            "tags": []
          }
        }
      ]
    },
    {
      "metadata": {
        "id": "QpR7HgcxlOKM",
        "colab_type": "text"
      },
      "cell_type": "markdown",
      "source": [
        "# We can also plot the kernels too, although interpretation is more difficult"
      ]
    },
    {
      "metadata": {
        "id": "y9IrVFLi0ru3",
        "colab_type": "code",
        "outputId": "65f3c042-1816-4b8c-e26f-d09465747393",
        "colab": {
          "base_uri": "https://localhost:8080/",
          "height": 897
        }
      },
      "cell_type": "code",
      "source": [
        "# we can plot the kernels too\n",
        "\n",
        "def plot_kernels():\n",
        "  w = 12\n",
        "  h = 12\n",
        "  fig=plt.figure(figsize=(8, 8))\n",
        "  columns = 8\n",
        "  rows = 6\n",
        "  weight_cpu = model.conv2.weight.data.cpu()\n",
        "  weight_np = weight_cpu.detach().numpy()\n",
        "  for i in range(40):\n",
        "    img = weight_np[i,0,:,:]\n",
        "    fig.add_subplot(rows, columns, i + 1)\n",
        "    plt.imshow(img, cmap = 'Blues')\n",
        "  plt.show()\n",
        "\n",
        "plot_kernels()\n"
      ],
      "execution_count": 0,
      "outputs": [
        {
          "output_type": "error",
          "ename": "ValueError",
          "evalue": "ignored",
          "traceback": [
            "\u001b[0;31m---------------------------------------------------------------------------\u001b[0m",
            "\u001b[0;31mValueError\u001b[0m                                Traceback (most recent call last)",
            "\u001b[0;32m<ipython-input-87-e2570a5be5fb>\u001b[0m in \u001b[0;36m<module>\u001b[0;34m()\u001b[0m\n\u001b[1;32m     14\u001b[0m   \u001b[0mplt\u001b[0m\u001b[0;34m.\u001b[0m\u001b[0mshow\u001b[0m\u001b[0;34m(\u001b[0m\u001b[0;34m)\u001b[0m\u001b[0;34m\u001b[0m\u001b[0;34m\u001b[0m\u001b[0m\n\u001b[1;32m     15\u001b[0m \u001b[0;34m\u001b[0m\u001b[0m\n\u001b[0;32m---> 16\u001b[0;31m \u001b[0mplot_kernels\u001b[0m\u001b[0;34m(\u001b[0m\u001b[0;34m)\u001b[0m\u001b[0;34m\u001b[0m\u001b[0;34m\u001b[0m\u001b[0m\n\u001b[0m",
            "\u001b[0;32m<ipython-input-87-e2570a5be5fb>\u001b[0m in \u001b[0;36mplot_kernels\u001b[0;34m()\u001b[0m\n\u001b[1;32m     10\u001b[0m   \u001b[0;32mfor\u001b[0m \u001b[0mi\u001b[0m \u001b[0;32min\u001b[0m \u001b[0mrange\u001b[0m\u001b[0;34m(\u001b[0m\u001b[0;36m40\u001b[0m\u001b[0;34m)\u001b[0m\u001b[0;34m:\u001b[0m\u001b[0;34m\u001b[0m\u001b[0;34m\u001b[0m\u001b[0m\n\u001b[1;32m     11\u001b[0m     \u001b[0mimg\u001b[0m \u001b[0;34m=\u001b[0m \u001b[0mweight_np\u001b[0m\u001b[0;34m[\u001b[0m\u001b[0mi\u001b[0m\u001b[0;34m,\u001b[0m\u001b[0;36m0\u001b[0m\u001b[0;34m,\u001b[0m\u001b[0;34m:\u001b[0m\u001b[0;34m,\u001b[0m\u001b[0;34m:\u001b[0m\u001b[0;34m]\u001b[0m\u001b[0;34m\u001b[0m\u001b[0;34m\u001b[0m\u001b[0m\n\u001b[0;32m---> 12\u001b[0;31m     \u001b[0mfig\u001b[0m\u001b[0;34m.\u001b[0m\u001b[0madd_subplot\u001b[0m\u001b[0;34m(\u001b[0m\u001b[0mrows\u001b[0m\u001b[0;34m,\u001b[0m \u001b[0mcolumns\u001b[0m\u001b[0;34m,\u001b[0m \u001b[0mi\u001b[0m \u001b[0;34m+\u001b[0m \u001b[0;36m1\u001b[0m\u001b[0;34m)\u001b[0m\u001b[0;34m\u001b[0m\u001b[0;34m\u001b[0m\u001b[0m\n\u001b[0m\u001b[1;32m     13\u001b[0m     \u001b[0mplt\u001b[0m\u001b[0;34m.\u001b[0m\u001b[0mimshow\u001b[0m\u001b[0;34m(\u001b[0m\u001b[0mimg\u001b[0m\u001b[0;34m,\u001b[0m \u001b[0mcmap\u001b[0m \u001b[0;34m=\u001b[0m \u001b[0;34m'Blues'\u001b[0m\u001b[0;34m)\u001b[0m\u001b[0;34m\u001b[0m\u001b[0;34m\u001b[0m\u001b[0m\n\u001b[1;32m     14\u001b[0m   \u001b[0mplt\u001b[0m\u001b[0;34m.\u001b[0m\u001b[0mshow\u001b[0m\u001b[0;34m(\u001b[0m\u001b[0;34m)\u001b[0m\u001b[0;34m\u001b[0m\u001b[0;34m\u001b[0m\u001b[0m\n",
            "\u001b[0;32m/usr/local/lib/python3.6/dist-packages/matplotlib/figure.py\u001b[0m in \u001b[0;36madd_subplot\u001b[0;34m(self, *args, **kwargs)\u001b[0m\n\u001b[1;32m   1365\u001b[0m                     \u001b[0mself\u001b[0m\u001b[0;34m.\u001b[0m\u001b[0m_axstack\u001b[0m\u001b[0;34m.\u001b[0m\u001b[0mremove\u001b[0m\u001b[0;34m(\u001b[0m\u001b[0max\u001b[0m\u001b[0;34m)\u001b[0m\u001b[0;34m\u001b[0m\u001b[0;34m\u001b[0m\u001b[0m\n\u001b[1;32m   1366\u001b[0m \u001b[0;34m\u001b[0m\u001b[0m\n\u001b[0;32m-> 1367\u001b[0;31m             \u001b[0ma\u001b[0m \u001b[0;34m=\u001b[0m \u001b[0msubplot_class_factory\u001b[0m\u001b[0;34m(\u001b[0m\u001b[0mprojection_class\u001b[0m\u001b[0;34m)\u001b[0m\u001b[0;34m(\u001b[0m\u001b[0mself\u001b[0m\u001b[0;34m,\u001b[0m \u001b[0;34m*\u001b[0m\u001b[0margs\u001b[0m\u001b[0;34m,\u001b[0m \u001b[0;34m**\u001b[0m\u001b[0mkwargs\u001b[0m\u001b[0;34m)\u001b[0m\u001b[0;34m\u001b[0m\u001b[0;34m\u001b[0m\u001b[0m\n\u001b[0m\u001b[1;32m   1368\u001b[0m         \u001b[0mself\u001b[0m\u001b[0;34m.\u001b[0m\u001b[0m_axstack\u001b[0m\u001b[0;34m.\u001b[0m\u001b[0madd\u001b[0m\u001b[0;34m(\u001b[0m\u001b[0mkey\u001b[0m\u001b[0;34m,\u001b[0m \u001b[0ma\u001b[0m\u001b[0;34m)\u001b[0m\u001b[0;34m\u001b[0m\u001b[0;34m\u001b[0m\u001b[0m\n\u001b[1;32m   1369\u001b[0m         \u001b[0mself\u001b[0m\u001b[0;34m.\u001b[0m\u001b[0msca\u001b[0m\u001b[0;34m(\u001b[0m\u001b[0ma\u001b[0m\u001b[0;34m)\u001b[0m\u001b[0;34m\u001b[0m\u001b[0;34m\u001b[0m\u001b[0m\n",
            "\u001b[0;32m/usr/local/lib/python3.6/dist-packages/matplotlib/axes/_subplots.py\u001b[0m in \u001b[0;36m__init__\u001b[0;34m(self, fig, *args, **kwargs)\u001b[0m\n\u001b[1;32m     58\u001b[0m                     raise ValueError(\n\u001b[1;32m     59\u001b[0m                         (\"num must be 1 <= num <= {maxn}, not {num}\"\n\u001b[0;32m---> 60\u001b[0;31m                         ).format(maxn=rows*cols, num=num))\n\u001b[0m\u001b[1;32m     61\u001b[0m                 self._subplotspec = GridSpec(\n\u001b[1;32m     62\u001b[0m                         rows, cols, figure=self.figure)[int(num) - 1]\n",
            "\u001b[0;31mValueError\u001b[0m: num must be 1 <= num <= 12, not 13"
          ]
        },
        {
          "output_type": "display_data",
          "data": {
            "image/png": "[encoded data removed]",
            "text/plain": [
              "<Figure size 576x576 with 12 Axes>"
            ]
          },
          "metadata": {
            "tags": []
          }
        }
      ]
    },
    {
      "metadata": {
        "id": "qrd0RnSWlcds",
        "colab_type": "text"
      },
      "cell_type": "markdown",
      "source": [
        "# Finally, we can plot the learning curves for our training and validation run"
      ]
    },
    {
      "metadata": {
        "id": "QjjHBd9mpzA8",
        "colab_type": "code",
        "outputId": "358eb361-998f-45a1-db5b-ca2dca494fe8",
        "colab": {
          "base_uri": "https://localhost:8080/",
          "height": 572
        }
      },
      "cell_type": "code",
      "source": [
        "%matplotlib inline\n",
        "import matplotlib.pyplot as plt\n",
        "\n",
        "plt.title('CNN Learning Curves - Loss')\n",
        "plt.plot(range(num_epochs), train_losses, color='blue', label='Training loss')\n",
        "plt.plot(range(num_epochs), valid_losses, color='red', label='Validation loss')\n",
        "plt.xlabel('Number of epochs')\n",
        "plt.ylabel('Loss')\n",
        "plt.legend()\n",
        "plt.show()\n",
        "\n",
        "plt.title('CNN Learning Curves - Accuracy')\n",
        "plt.plot(range(num_epochs), train_accuracies, color='blue', label='Training accuracy')\n",
        "plt.plot(range(num_epochs), valid_accuracies, color='red', label='Validation accuracy')\n",
        "plt.xlabel('Number of epochs')\n",
        "plt.ylabel('Accuracy')\n",
        "plt.legend()\n",
        "plt.show()"
      ],
      "execution_count": 0,
      "outputs": [
        {
          "output_type": "display_data",
          "data": {
            "image/png": "[encoded data removed]",
            "text/plain": [
              "<Figure size 432x288 with 1 Axes>"
            ]
          },
          "metadata": {
            "tags": []
          }
        },
        {
          "output_type": "display_data",
          "data": {
            "image/png": "[encoded data removed]",
            "text/plain": [
              "<Figure size 432x288 with 1 Axes>"
            ]
          },
          "metadata": {
            "tags": []
          }
        }
      ]
    },
    {
      "metadata": {
        "id": "X0erlIWpu4ZS",
        "colab_type": "text"
      },
      "cell_type": "markdown",
      "source": [
        "## CNN Testing\n",
        "\n",
        "Now we evaluate the test performance of our CNN."
      ]
    },
    {
      "metadata": {
        "id": "HIyRo62Mv71d",
        "colab_type": "code",
        "outputId": "a6685348-0485-48d6-c98a-602ec8a693ad",
        "colab": {
          "base_uri": "https://localhost:8080/",
          "height": 303
        }
      },
      "cell_type": "code",
      "source": [
        "# define the transforms and dataloaders for the test set\n",
        "transform = transforms.Compose([\n",
        "    transforms.ToPILImage(),\n",
        "    transforms.ToTensor()\n",
        "])\n",
        "\n",
        "test_sampler = SequentialSampler(np.arange(len(testIDS)))\n",
        "\n",
        "test_loader = torch.utils.data.DataLoader(test_dataset,\n",
        "                                         batch_size=batch_size,\n",
        "                                         sampler=test_sampler)\n",
        "\n",
        "# Test the model\n",
        "model.eval()\n",
        "with torch.no_grad():\n",
        "  count = 1\n",
        "  for images in test_loader: \n",
        " \n",
        "    just_image = images[0,:,:,:]\n",
        "    a = np.transpose(just_image)\n",
        "    plt.imshow(a)\n",
        "    \n",
        "    \n",
        "    images = images.to(device)\n",
        "    outputs = model(images)\n",
        "    \n",
        "#     convert and stack outputs\n",
        "    outputs_cpu = outputs.cpu()\n",
        "    temp = outputs_cpu.detach().numpy()\n",
        "    if count == 1:\n",
        "      test_out = temp\n",
        "    else:\n",
        "      test_out = np.vstack((test_out, temp))  \n",
        "\n",
        "    count += 1\n",
        "print('Beginning testing')\n",
        "print(len(test_out))"
      ],
      "execution_count": 0,
      "outputs": [
        {
          "output_type": "stream",
          "text": [
            "Beginning testing\n",
            "4999\n"
          ],
          "name": "stdout"
        },
        {
          "output_type": "display_data",
          "data": {
            "image/png": "[encoded data removed]",
            "text/plain": [
              "<Figure size 432x288 with 1 Axes>"
            ]
          },
          "metadata": {
            "tags": []
          }
        }
      ]
    },
    {
      "metadata": {
        "id": "olSBtE-9tDPO",
        "colab_type": "code",
        "colab": {}
      },
      "cell_type": "code",
      "source": [
        "# pickle and save results to submit for kaggle\n",
        "\n",
        "import pandas as pd\n",
        "import numpy as np\n",
        "import pickle\n",
        "import os\n",
        "import csv\n",
        "\n",
        "currPath = os.getcwd()\n",
        "prediction = []\n",
        "# convert softmax to cat/dog\n",
        "for i in range(len(test_out)):\n",
        "  if test_out[i, 0] > test_out[i, 1]:\n",
        "    prediction.append('Cat')\n",
        "  else:\n",
        "    prediction.append('Dog')\n",
        "\n",
        "    \n",
        "    \n",
        "  \n",
        "# build csv and submit\n",
        "with open(PATH +'test_predicted.csv', 'w') as csvfile:\n",
        "    # defined by the sample csv\n",
        "    fieldnames = ['Id', 'label']\n",
        "    writer = csv.DictWriter(csvfile, fieldnames=fieldnames)\n",
        "    writer.writeheader()\n",
        "    for i in range(len(prediction)):\n",
        "      writer.writerow({'Id': testIDS[i], 'label':prediction[i]})\n",
        "\n",
        "      "
      ],
      "execution_count": 0,
      "outputs": []
    },
    {
      "metadata": {
        "id": "NBys3Fa10454",
        "colab_type": "text"
      },
      "cell_type": "markdown",
      "source": [
        "*Include a comparison with the performance of the MLP from Q1, once we've done Q1.*"
      ]
    }
  ]
}