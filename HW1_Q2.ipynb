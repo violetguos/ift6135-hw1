{
 "cells": [
  {
   "cell_type": "markdown",
   "metadata": {
    "colab_type": "text",
    "id": "zRgL6awldmL6"
   },
   "source": [
    "# HW1 Q2 - Convolutional Neural Networks\n",
    "\n",
    "In this question we set up a CNN with a similar number of parameters as in the multilayer perceptron in Q1.\n",
    "\n",
    "First, we import some PyTorch libraries and direct them to use Google Colab's GPU:"
   ]
  },
  {
   "cell_type": "code",
   "execution_count": 0,
   "metadata": {
    "colab": {},
    "colab_type": "code",
    "id": "LA4Mnb_Y4lpN"
   },
   "outputs": [],
   "source": [
    "import torch\n",
    "import torch.nn as nn\n",
    "import torch.nn.functional as F\n",
    "import torch.utils.data\n",
    "\n",
    "from torch.autograd import Variable"
   ]
  },
  {
   "cell_type": "code",
   "execution_count": 0,
   "metadata": {
    "colab": {},
    "colab_type": "code",
    "id": "LXXUMCDPbFXv"
   },
   "outputs": [],
   "source": [
    "# Use the GPU\n",
    "device = torch.device('cuda')"
   ]
  },
  {
   "cell_type": "markdown",
   "metadata": {
    "colab_type": "text",
    "id": "5SSjnKsIeG7T"
   },
   "source": [
    "Next, we import the MNIST training and testing data, which is an included dataset in the `torchvision` library."
   ]
  },
  {
   "cell_type": "code",
   "execution_count": 3,
   "metadata": {
    "colab": {
     "base_uri": "https://localhost:8080/",
     "height": 126
    },
    "colab_type": "code",
    "id": "xkYYBnyg5Y8W",
    "outputId": "b1b184de-eb80-4592-b995-81936395768e"
   },
   "outputs": [
    {
     "name": "stdout",
     "output_type": "stream",
     "text": [
      "Downloading http://yann.lecun.com/exdb/mnist/train-images-idx3-ubyte.gz\n",
      "Downloading http://yann.lecun.com/exdb/mnist/train-labels-idx1-ubyte.gz\n",
      "Downloading http://yann.lecun.com/exdb/mnist/t10k-images-idx3-ubyte.gz\n",
      "Downloading http://yann.lecun.com/exdb/mnist/t10k-labels-idx1-ubyte.gz\n",
      "Processing...\n",
      "Done!\n"
     ]
    }
   ],
   "source": [
    "import torchvision\n",
    "import torchvision.datasets as datasets\n",
    "import torchvision.transforms as transforms\n",
    "\n",
    "# We could chain transforms together here\n",
    "transform = transforms.ToTensor()\n",
    "\n",
    "# Import the training set into the mnist/ dir\n",
    "mnist_train = datasets.MNIST(root='./mnist', train=True,\n",
    "                            download=True,\n",
    "                            transform=transform)\n",
    "\n",
    "# Import the test set too\n",
    "mnist_test = datasets.MNIST(root='./mnist', train=False,\n",
    "                           download=True,\n",
    "                           transform=transform)"
   ]
  },
  {
   "cell_type": "markdown",
   "metadata": {
    "colab_type": "text",
    "id": "p5IBw3cseSyb"
   },
   "source": [
    "To split the training data into a training and validation set, we need to establish a `sampler` for each that will pull out certain samples when called from the dataloader. In our case, we have a 15% validation split, with 51000 training examples and 9000 validation examples."
   ]
  },
  {
   "cell_type": "code",
   "execution_count": 0,
   "metadata": {
    "colab": {},
    "colab_type": "code",
    "id": "Ci7BGbTQ7uX9"
   },
   "outputs": [],
   "source": [
    "import numpy as np\n",
    "from torch.utils.data.sampler import SubsetRandomSampler\n",
    "\n",
    "# Fix seed\n",
    "np.random.seed(42)\n",
    "torch.manual_seed(42)\n",
    "\n",
    "# Define samplers for the data (to get validation split)\n",
    "num_train_samples = 51000\n",
    "train_sampler = SubsetRandomSampler(np.arange(num_train_samples, \n",
    "                                              dtype=np.int64))\n",
    "\n",
    "num_valid_samples = 9000\n",
    "valid_sampler = SubsetRandomSampler(np.arange(num_train_samples,\n",
    "                                             num_train_samples + num_valid_samples,\n",
    "                                             dtype=np.int64))\n",
    "\n",
    "num_test_samples = 10000\n",
    "test_sampler = SubsetRandomSampler(np.arange(num_test_samples,\n",
    "                                            dtype=np.int64))"
   ]
  },
  {
   "cell_type": "markdown",
   "metadata": {
    "colab_type": "text",
    "id": "8L8tv5zvemeP"
   },
   "source": [
    "And we set our hyperparameters and other useful constants:"
   ]
  },
  {
   "cell_type": "code",
   "execution_count": 0,
   "metadata": {
    "colab": {},
    "colab_type": "code",
    "id": "jb6ePB5nJJD5"
   },
   "outputs": [],
   "source": [
    "batch_size = 32\n",
    "learning_rate = 0.01\n",
    "num_epochs = 20\n",
    "\n",
    "num_classes = 10"
   ]
  },
  {
   "cell_type": "markdown",
   "metadata": {
    "colab_type": "text",
    "id": "MyWMN63ge3HO"
   },
   "source": [
    "As a last step before training, we define training, validation, and test dataloaders that sample from the above `sampler`s according to the defined batch size:"
   ]
  },
  {
   "cell_type": "code",
   "execution_count": 0,
   "metadata": {
    "colab": {},
    "colab_type": "code",
    "id": "PXgZ-GV8CQeT"
   },
   "outputs": [],
   "source": [
    "# Get dataloaders for train/valid/test\n",
    "train_loader = torch.utils.data.DataLoader(mnist_train,\n",
    "                                          batch_size=batch_size,\n",
    "                                          sampler=train_sampler)\n",
    "\n",
    "valid_loader = torch.utils.data.DataLoader(mnist_train,\n",
    "                                          batch_size=batch_size,\n",
    "                                          sampler=valid_sampler)\n",
    "\n",
    "test_loader = torch.utils.data.DataLoader(mnist_test,\n",
    "                                         batch_size=batch_size,\n",
    "                                         sampler=test_sampler)"
   ]
  },
  {
   "cell_type": "markdown",
   "metadata": {
    "colab_type": "text",
    "id": "iZwa2g46e_z2"
   },
   "source": [
    "## CNN architecture definition\n",
    "\n",
    "Now we define the class for our CNN."
   ]
  },
  {
   "cell_type": "code",
   "execution_count": 0,
   "metadata": {
    "colab": {},
    "colab_type": "code",
    "id": "ERoH7zaSJrfF"
   },
   "outputs": [],
   "source": [
    "# Define the CNN class\n",
    "\n",
    "class CNN(nn.Module):\n",
    "  def __init__(self):\n",
    "    super(CNN, self).__init__()\n",
    "    self.conv1 = nn.Conv2d(1, 18, kernel_size=3, stride=1, padding=1)\n",
    "    self.pool1 = nn.MaxPool2d(kernel_size=2, stride=2, padding=0)\n",
    "    \n",
    "    self.conv2 = nn.Conv2d(18, 64, kernel_size=3, stride=1, padding=1)\n",
    "    self.pool2 = nn.MaxPool2d(kernel_size=2, stride=2, padding=0)\n",
    "    \n",
    "    self.fc1 = nn.Linear(64*7*7, 175)\n",
    "    self.fc2 = nn.Linear(175, 10)\n",
    "    \n",
    "  def forward(self, x):\n",
    "    #print('Input: ', x.size())\n",
    "    x = F.relu(self.conv1(x))\n",
    "    #print('After relu: ', x.size())\n",
    "    x = self.pool1(x)\n",
    "    #print('After pool: ', x.size())\n",
    "    x = F.relu(self.conv2(x))\n",
    "    #print('After relu conv2: ', x.size())\n",
    "    x = self.pool2(x)\n",
    "    #print('After pool: ', x.size())\n",
    "    x = x.view(-1, 64*7*7)\n",
    "    #print('After view: ', x.size())\n",
    "    x = F.relu(self.fc1(x))\n",
    "    #print('After relu: ', x.size())\n",
    "    x = self.fc2(x)\n",
    "    #print('After fully connected: ', x.size())\n",
    "    return x\n",
    "    "
   ]
  },
  {
   "cell_type": "markdown",
   "metadata": {
    "colab_type": "text",
    "id": "G67AfTj0foDN"
   },
   "source": [
    "This CNN has two convolutional layers, each with a ReLU activation, a kernel size of 3, a stride of 1, and a padding level of 1. The first convolutional layer learns 18 feature maps and the second learns 64 feature maps. Both convolutional layers use max pooling after their operation, with a kernel size of 2 and stride of 2.\n",
    "\n",
    "Finally, the data will pass through two fully connected layers and output to 10 units representing our 10 possible digit classes.\n",
    "\n",
    "Below, we see an outline of this architecture. Note that the total number of trainable parameters is between 0.5 and 1 million."
   ]
  },
  {
   "cell_type": "code",
   "execution_count": 8,
   "metadata": {
    "colab": {
     "base_uri": "https://localhost:8080/",
     "height": 181
    },
    "colab_type": "code",
    "id": "2_4sUFuSNudx",
    "outputId": "98a5185b-327a-4f78-848d-87075fb93301"
   },
   "outputs": [
    {
     "name": "stdout",
     "output_type": "stream",
     "text": [
      "CNN(\n",
      "  (conv1): Conv2d(1, 18, kernel_size=(3, 3), stride=(1, 1), padding=(1, 1))\n",
      "  (pool1): MaxPool2d(kernel_size=2, stride=2, padding=0, dilation=1, ceil_mode=False)\n",
      "  (conv2): Conv2d(18, 64, kernel_size=(3, 3), stride=(1, 1), padding=(1, 1))\n",
      "  (pool2): MaxPool2d(kernel_size=2, stride=2, padding=0, dilation=1, ceil_mode=False)\n",
      "  (fc1): Linear(in_features=3136, out_features=175, bias=True)\n",
      "  (fc2): Linear(in_features=175, out_features=10, bias=True)\n",
      ")\n",
      "Number of parameters: 561347\n"
     ]
    }
   ],
   "source": [
    "model = CNN().to(device)\n",
    "print(model)\n",
    "\n",
    "model_parameters = filter(lambda p: p.requires_grad, model.parameters())\n",
    "params = sum([np.prod(p.size()) for p in model_parameters])\n",
    "print('Number of parameters: {}'.format(params))"
   ]
  },
  {
   "cell_type": "markdown",
   "metadata": {
    "colab_type": "text",
    "id": "01Wu0sKrkLwh"
   },
   "source": [
    "## CNN training\n",
    "\n",
    "Now we will define our loss function and stochastic gradient descent optimizer, and run over the training loop for our CNN."
   ]
  },
  {
   "cell_type": "code",
   "execution_count": 0,
   "metadata": {
    "colab": {},
    "colab_type": "code",
    "id": "JOnTFQAjfpCB"
   },
   "outputs": [],
   "source": [
    "# Define loss and optimizer\n",
    "criterion = nn.CrossEntropyLoss()\n",
    "optimizer = torch.optim.SGD(model.parameters(), lr=learning_rate)"
   ]
  },
  {
   "cell_type": "code",
   "execution_count": 11,
   "metadata": {
    "colab": {
     "base_uri": "https://localhost:8080/",
     "height": 1507
    },
    "colab_type": "code",
    "id": "Ts3HzSjIOnu6",
    "outputId": "e4d79712-41b2-424c-ae86-881526d84842"
   },
   "outputs": [
    {
     "name": "stderr",
     "output_type": "stream",
     "text": [
      "  0%|          | 2/1594 [00:00<01:24, 18.74it/s]"
     ]
    },
    {
     "name": "stdout",
     "output_type": "stream",
     "text": [
      "\n",
      "Beginning training.\n",
      "Epoch 1/20\n"
     ]
    },
    {
     "name": "stderr",
     "output_type": "stream",
     "text": [
      "100%|██████████| 1594/1594 [00:13<00:00, 114.35it/s]\n",
      "  1%|          | 12/1594 [00:00<00:13, 115.98it/s]"
     ]
    },
    {
     "name": "stdout",
     "output_type": "stream",
     "text": [
      "\n",
      "train_loss: 1332.2324795424938, train_acc: 74.73333333333333, valid_loss: 70.24751602858305, valid_acc: 92.25555555555556\n",
      "Epoch 2/20\n"
     ]
    },
    {
     "name": "stderr",
     "output_type": "stream",
     "text": [
      "100%|██████████| 1594/1594 [00:13<00:00, 114.83it/s]\n",
      "  1%|          | 12/1594 [00:00<00:13, 119.35it/s]"
     ]
    },
    {
     "name": "stdout",
     "output_type": "stream",
     "text": [
      "\n",
      "train_loss: 354.126238103956, train_acc: 93.17450980392157, valid_loss: 38.98537100106478, valid_acc: 95.89999999999999\n",
      "Epoch 3/20\n"
     ]
    },
    {
     "name": "stderr",
     "output_type": "stream",
     "text": [
      "100%|██████████| 1594/1594 [00:13<00:00, 115.79it/s]\n",
      "  1%|          | 12/1594 [00:00<00:13, 116.14it/s]"
     ]
    },
    {
     "name": "stdout",
     "output_type": "stream",
     "text": [
      "\n",
      "train_loss: 227.07753149420023, train_acc: 95.65098039215685, valid_loss: 37.89683987945318, valid_acc: 95.97777777777777\n",
      "Epoch 4/20\n"
     ]
    },
    {
     "name": "stderr",
     "output_type": "stream",
     "text": [
      "100%|██████████| 1594/1594 [00:13<00:00, 115.25it/s]\n",
      "  1%|          | 12/1594 [00:00<00:13, 115.96it/s]"
     ]
    },
    {
     "name": "stdout",
     "output_type": "stream",
     "text": [
      "\n",
      "train_loss: 171.61356449127197, train_acc: 96.63137254901962, valid_loss: 24.09066040813923, valid_acc: 97.45555555555555\n",
      "Epoch 5/20\n"
     ]
    },
    {
     "name": "stderr",
     "output_type": "stream",
     "text": [
      "100%|██████████| 1594/1594 [00:13<00:00, 115.33it/s]\n",
      "  1%|          | 12/1594 [00:00<00:13, 115.82it/s]"
     ]
    },
    {
     "name": "stdout",
     "output_type": "stream",
     "text": [
      "\n",
      "train_loss: 137.78825823962688, train_acc: 97.32745098039216, valid_loss: 20.795971490442753, valid_acc: 97.7\n",
      "Epoch 6/20\n"
     ]
    },
    {
     "name": "stderr",
     "output_type": "stream",
     "text": [
      "100%|██████████| 1594/1594 [00:13<00:00, 115.03it/s]\n",
      "  1%|          | 12/1594 [00:00<00:13, 116.42it/s]"
     ]
    },
    {
     "name": "stdout",
     "output_type": "stream",
     "text": [
      "\n",
      "train_loss: 117.12419238686562, train_acc: 97.68039215686275, valid_loss: 18.14135928452015, valid_acc: 98.32222222222222\n",
      "Epoch 7/20\n"
     ]
    },
    {
     "name": "stderr",
     "output_type": "stream",
     "text": [
      "100%|██████████| 1594/1594 [00:13<00:00, 115.20it/s]\n",
      "  1%|          | 12/1594 [00:00<00:13, 114.73it/s]"
     ]
    },
    {
     "name": "stdout",
     "output_type": "stream",
     "text": [
      "\n",
      "train_loss: 103.30317091010511, train_acc: 97.99215686274509, valid_loss: 18.48393912613392, valid_acc: 98.06666666666666\n",
      "Epoch 8/20\n"
     ]
    },
    {
     "name": "stderr",
     "output_type": "stream",
     "text": [
      "100%|██████████| 1594/1594 [00:13<00:00, 115.32it/s]\n",
      "  1%|          | 12/1594 [00:00<00:13, 115.39it/s]"
     ]
    },
    {
     "name": "stdout",
     "output_type": "stream",
     "text": [
      "\n",
      "train_loss: 90.46443284209818, train_acc: 98.22745098039216, valid_loss: 16.563708625733852, valid_acc: 98.45555555555555\n",
      "Epoch 9/20\n"
     ]
    },
    {
     "name": "stderr",
     "output_type": "stream",
     "text": [
      "100%|██████████| 1594/1594 [00:13<00:00, 115.67it/s]\n",
      "  1%|          | 11/1594 [00:00<00:14, 109.94it/s]"
     ]
    },
    {
     "name": "stdout",
     "output_type": "stream",
     "text": [
      "\n",
      "train_loss: 81.40887488797307, train_acc: 98.38823529411765, valid_loss: 17.348023898899555, valid_acc: 98.1\n",
      "Epoch 10/20\n"
     ]
    },
    {
     "name": "stderr",
     "output_type": "stream",
     "text": [
      "100%|██████████| 1594/1594 [00:13<00:00, 115.56it/s]\n",
      "  1%|          | 12/1594 [00:00<00:13, 115.91it/s]"
     ]
    },
    {
     "name": "stdout",
     "output_type": "stream",
     "text": [
      "\n",
      "train_loss: 74.28619233891368, train_acc: 98.54705882352941, valid_loss: 17.73153457790613, valid_acc: 98.26666666666667\n",
      "Epoch 11/20\n"
     ]
    },
    {
     "name": "stderr",
     "output_type": "stream",
     "text": [
      "100%|██████████| 1594/1594 [00:13<00:00, 115.40it/s]\n",
      "  1%|          | 12/1594 [00:00<00:13, 115.90it/s]"
     ]
    },
    {
     "name": "stdout",
     "output_type": "stream",
     "text": [
      "\n",
      "train_loss: 67.05339493742213, train_acc: 98.68823529411765, valid_loss: 15.416800022125244, valid_acc: 98.44444444444444\n",
      "Epoch 12/20\n"
     ]
    },
    {
     "name": "stderr",
     "output_type": "stream",
     "text": [
      "100%|██████████| 1594/1594 [00:13<00:00, 115.33it/s]\n",
      "  1%|          | 12/1594 [00:00<00:13, 116.86it/s]"
     ]
    },
    {
     "name": "stdout",
     "output_type": "stream",
     "text": [
      "\n",
      "train_loss: 61.855515753268264, train_acc: 98.7607843137255, valid_loss: 13.626686088740826, valid_acc: 98.55555555555556\n",
      "Epoch 13/20\n"
     ]
    },
    {
     "name": "stderr",
     "output_type": "stream",
     "text": [
      "100%|██████████| 1594/1594 [00:13<00:00, 115.29it/s]\n",
      "  1%|          | 12/1594 [00:00<00:13, 115.97it/s]"
     ]
    },
    {
     "name": "stdout",
     "output_type": "stream",
     "text": [
      "\n",
      "train_loss: 57.12211852520704, train_acc: 98.83529411764705, valid_loss: 14.965608030557632, valid_acc: 98.5\n",
      "Epoch 14/20\n"
     ]
    },
    {
     "name": "stderr",
     "output_type": "stream",
     "text": [
      "100%|██████████| 1594/1594 [00:13<00:00, 115.45it/s]\n",
      "  1%|          | 12/1594 [00:00<00:14, 111.88it/s]"
     ]
    },
    {
     "name": "stdout",
     "output_type": "stream",
     "text": [
      "\n",
      "train_loss: 52.228462438099086, train_acc: 98.96666666666667, valid_loss: 16.246120758354664, valid_acc: 98.3\n",
      "Epoch 15/20\n"
     ]
    },
    {
     "name": "stderr",
     "output_type": "stream",
     "text": [
      "100%|██████████| 1594/1594 [00:13<00:00, 115.35it/s]\n",
      "  1%|          | 12/1594 [00:00<00:13, 116.97it/s]"
     ]
    },
    {
     "name": "stdout",
     "output_type": "stream",
     "text": [
      "\n",
      "train_loss: 49.495644966722466, train_acc: 99.04117647058823, valid_loss: 14.384172715246677, valid_acc: 98.65555555555555\n",
      "Epoch 16/20\n"
     ]
    },
    {
     "name": "stderr",
     "output_type": "stream",
     "text": [
      "100%|██████████| 1594/1594 [00:13<00:00, 115.05it/s]\n",
      "  1%|          | 12/1594 [00:00<00:13, 114.60it/s]"
     ]
    },
    {
     "name": "stdout",
     "output_type": "stream",
     "text": [
      "\n",
      "train_loss: 44.35758112859912, train_acc: 99.12352941176471, valid_loss: 13.95925435423851, valid_acc: 98.64444444444445\n",
      "Epoch 17/20\n"
     ]
    },
    {
     "name": "stderr",
     "output_type": "stream",
     "text": [
      "100%|██████████| 1594/1594 [00:13<00:00, 115.14it/s]\n",
      "  1%|          | 12/1594 [00:00<00:13, 116.88it/s]"
     ]
    },
    {
     "name": "stdout",
     "output_type": "stream",
     "text": [
      "\n",
      "train_loss: 40.756848665419966, train_acc: 99.2156862745098, valid_loss: 13.244053438305855, valid_acc: 98.66666666666667\n",
      "Epoch 18/20\n"
     ]
    },
    {
     "name": "stderr",
     "output_type": "stream",
     "text": [
      "100%|██████████| 1594/1594 [00:13<00:00, 115.59it/s]\n",
      "  1%|          | 12/1594 [00:00<00:13, 116.16it/s]"
     ]
    },
    {
     "name": "stdout",
     "output_type": "stream",
     "text": [
      "\n",
      "train_loss: 38.18021708726883, train_acc: 99.24313725490195, valid_loss: 14.322460010647774, valid_acc: 98.55555555555556\n",
      "Epoch 19/20\n"
     ]
    },
    {
     "name": "stderr",
     "output_type": "stream",
     "text": [
      "100%|██████████| 1594/1594 [00:13<00:00, 115.29it/s]\n",
      "  1%|          | 11/1594 [00:00<00:14, 109.43it/s]"
     ]
    },
    {
     "name": "stdout",
     "output_type": "stream",
     "text": [
      "\n",
      "train_loss: 36.08296651637647, train_acc: 99.25882352941177, valid_loss: 13.428653441369534, valid_acc: 98.8\n",
      "Epoch 20/20\n"
     ]
    },
    {
     "name": "stderr",
     "output_type": "stream",
     "text": [
      "100%|██████████| 1594/1594 [00:13<00:00, 115.36it/s]\n"
     ]
    },
    {
     "name": "stdout",
     "output_type": "stream",
     "text": [
      "\n",
      "train_loss: 32.71211145320558, train_acc: 99.40980392156862, valid_loss: 12.740328028798103, valid_acc: 98.82222222222222\n"
     ]
    }
   ],
   "source": [
    "# Make a nice progress bar - tqdm on colab is a bit buggy though\n",
    "from tqdm import tqdm\n",
    "\n",
    "# Train and validate\n",
    "print('\\nBeginning training.')\n",
    "total_step = len(train_loader)\n",
    "train_losses, train_accuracies = [], []\n",
    "valid_losses, valid_accuracies = [], []\n",
    "\n",
    "for epoch in range(num_epochs):\n",
    "  print('Epoch {}/{}'.format(epoch+1, num_epochs))\n",
    "  running_train_loss, running_valid_loss = 0.0, 0.0 # Losses restart at the epoch\n",
    "  train_total, valid_total = 0, 0\n",
    "  train_correct, valid_correct = 0, 0\n",
    "  \n",
    "  model.train()\n",
    "  # Training set\n",
    "  for i, (images, labels) in enumerate(tqdm(train_loader, position=0)):\n",
    "    images, labels = images.to(device),labels.to(device)\n",
    "    optimizer.zero_grad()\n",
    "    \n",
    "    # Forward\n",
    "    outputs = model(images)\n",
    "    loss = criterion(outputs, labels)\n",
    "    running_train_loss += loss.item()\n",
    "    \n",
    "    # Backward\n",
    "    loss.backward()\n",
    "    optimizer.step()\n",
    "    \n",
    "    # Track loss and accuracy\n",
    "    train_total += labels.size(0)\n",
    "    _, train_predicted = torch.max(outputs.data, 1)\n",
    "    train_correct += (train_predicted == labels).sum().item()\n",
    "    train_acc = train_correct/train_total\n",
    "  \n",
    "  model.eval()\n",
    "  # Validation set\n",
    "  for images, labels in valid_loader:\n",
    "    images, labels = images.to(device), labels.to(device)\n",
    "    valid_outputs = model(images)\n",
    "    valid_loss = criterion(valid_outputs, labels)\n",
    "    running_valid_loss += valid_loss.item()\n",
    "    valid_total += labels.size(0)\n",
    "    _, valid_predicted = torch.max(valid_outputs.data, 1)\n",
    "    valid_correct += (valid_predicted == labels).sum().item()\n",
    "    valid_acc = valid_correct/valid_total\n",
    "  \n",
    "  train_losses.append(running_train_loss)\n",
    "  train_accuracies.append(train_acc)\n",
    "  valid_losses.append(running_valid_loss)\n",
    "  valid_accuracies.append(valid_acc)\n",
    "  # Mod this when num epochs is too big\n",
    "  print('\\ntrain_loss: {}, train_acc: {}, valid_loss: {}, valid_acc: {}'.format(\n",
    "      running_train_loss, train_acc*100, running_valid_loss, valid_acc*100))"
   ]
  },
  {
   "cell_type": "code",
   "execution_count": 12,
   "metadata": {
    "colab": {
     "base_uri": "https://localhost:8080/",
     "height": 571
    },
    "colab_type": "code",
    "id": "QjjHBd9mpzA8",
    "outputId": "56ed2558-0ff3-4980-f12c-f71a66dceba8"
   },
   "outputs": [
    {
     "data": {
      "image/png": "[encoded data removed]",
      "text/plain": [
       "<Figure size 432x288 with 1 Axes>"
      ]
     },
     "metadata": {
      "tags": []
     },
     "output_type": "display_data"
    },
    {
     "data": {
      "image/png": "[encoded data removed]",
      "text/plain": [
       "<Figure size 432x288 with 1 Axes>"
      ]
     },
     "metadata": {
      "tags": []
     },
     "output_type": "display_data"
    }
   ],
   "source": [
    "%matplotlib inline\n",
    "import matplotlib.pyplot as plt\n",
    "\n",
    "plt.title('CNN Learning Curves - Loss')\n",
    "plt.plot(range(num_epochs), train_losses, color='blue', label='Training loss')\n",
    "plt.plot(range(num_epochs), valid_losses, color='red', label='Validation loss')\n",
    "plt.xlabel('Number of epochs')\n",
    "plt.ylabel('Loss')\n",
    "plt.legend()\n",
    "plt.show()\n",
    "\n",
    "plt.title('CNN Learning Curves - Accuracy')\n",
    "plt.plot(range(num_epochs), train_accuracies, color='blue', label='Training accuracy')\n",
    "plt.plot(range(num_epochs), valid_accuracies, color='red', label='Validation accuracy')\n",
    "plt.xlabel('Number of epochs')\n",
    "plt.ylabel('Accuracy')\n",
    "plt.legend()\n",
    "plt.show()"
   ]
  },
  {
   "cell_type": "markdown",
   "metadata": {
    "colab_type": "text",
    "id": "X0erlIWpu4ZS"
   },
   "source": [
    "## CNN Testing\n",
    "\n",
    "Now we evaluate the test performance of our CNN."
   ]
  },
  {
   "cell_type": "code",
   "execution_count": 13,
   "metadata": {
    "colab": {
     "base_uri": "https://localhost:8080/",
     "height": 53
    },
    "colab_type": "code",
    "id": "HIyRo62Mv71d",
    "outputId": "d5944f6a-64ef-4d30-b418-f491877fdd21"
   },
   "outputs": [
    {
     "name": "stdout",
     "output_type": "stream",
     "text": [
      "Beginning testing.\n",
      "Loss: 0.0006119012832641602, accuracy: 98.96000000000001\n"
     ]
    }
   ],
   "source": [
    "# Test the model\n",
    "model.eval()\n",
    "\n",
    "with torch.no_grad():\n",
    "  total, correct = 0, 0\n",
    "  for images, labels in test_loader:\n",
    "    images, labels = images.to(device), labels.to(device)\n",
    "    outputs = model(images)\n",
    "    test_loss = criterion(outputs, labels)\n",
    "    total += labels.size(0)\n",
    "    _, predicted = torch.max(outputs.data, 1)\n",
    "    correct += (predicted == labels).sum().item()\n",
    "    test_acc = correct/total\n",
    "\n",
    "print('Beginning testing.')\n",
    "print('Loss: {}, accuracy: {}'.format(test_loss, test_acc*100))"
   ]
  },
  {
   "cell_type": "markdown",
   "metadata": {
    "colab_type": "text",
    "id": "NBys3Fa10454"
   },
   "source": [
    "# Comparison with Q1\n",
    "\n",
    "While the MLP in Q1 was able to achieve 99.96% training accuracy and 97.02% validation accuracy, it took a significantly longer time to train (on the order of hours, while the CNN takes on the order of seconds). This speedup is certainly due to the use of GPUs made possible by PyTorch's architecture, which vanilla Numpy does not support.\n",
    "\n",
    "This CNN was able to surpass the MLP in validation accuracy, achieving and 99.82%. This is likely due to the fact that due to the convolution operation, the CNN is allowed to preserve and explore much of the substructure in the images than a vanilla MLP which must flatten the whole image array. Also notable is the fact that CNN training was able to reach these accuracies after only 20 epochs, and had surpassed the MLP's performance within 10, while the MLP took 35 epochs. This indicates that while convolution is a more complex operation, it is capable of processing and learning more information more densely over time than a vanilla MLP."
   ]
  }
 ],
 "metadata": {
  "accelerator": "GPU",
  "colab": {
   "collapsed_sections": [],
   "name": "HW1_Q2.ipynb",
   "provenance": [],
   "version": "0.3.2"
  },
  "kernelspec": {
   "display_name": "Python 3",
   "language": "python",
   "name": "python3"
  },
  "language_info": {
   "codemirror_mode": {
    "name": "ipython",
    "version": 3
   },
   "file_extension": ".py",
   "mimetype": "text/x-python",
   "name": "python",
   "nbconvert_exporter": "python",
   "pygments_lexer": "ipython3",
   "version": "3.7.0"
  }
 },
 "nbformat": 4,
 "nbformat_minor": 1
}
